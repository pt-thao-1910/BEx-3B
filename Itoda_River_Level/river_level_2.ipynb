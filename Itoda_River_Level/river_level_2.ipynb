{
 "cells": [
  {
   "cell_type": "markdown",
   "id": "offshore-employer",
   "metadata": {
    "id": "tired-disco"
   },
   "source": [
    "### Import libraries:"
   ]
  },
  {
   "cell_type": "code",
   "execution_count": 2,
   "id": "massive-creator",
   "metadata": {
    "id": "sudden-poverty"
   },
   "outputs": [],
   "source": [
    "import pandas as pd\n",
    "import numpy as np\n",
    "import matplotlib.pyplot as plt\n",
    "import tensorflow as tf\n",
    "from tensorflow.keras.models import Sequential\n",
    "from tensorflow.keras.layers import Dense, LSTM\n",
    "from tensorflow.keras.callbacks import EarlyStopping\n",
    "from sklearn.metrics import mean_squared_error"
   ]
  },
  {
   "cell_type": "markdown",
   "id": "certified-nylon",
   "metadata": {
    "id": "agricultural-presence"
   },
   "source": [
    "### Read data:"
   ]
  },
  {
   "cell_type": "markdown",
   "id": "miniature-bonus",
   "metadata": {
    "id": "fancy-israel"
   },
   "source": [
    "#### Rainfall data:"
   ]
  },
  {
   "cell_type": "code",
   "execution_count": 3,
   "id": "marine-height",
   "metadata": {
    "colab": {
     "base_uri": "https://localhost:8080/"
    },
    "id": "mineral-andrews",
    "outputId": "8573fddd-5f6a-41a0-b15a-e1c3e9579bb3"
   },
   "outputs": [
    {
     "name": "stdout",
     "output_type": "stream",
     "text": [
      "['2020_寝屋川', '2020_枚方', '2020_茨木', '2020_西大阪']\n"
     ]
    }
   ],
   "source": [
    "xls = pd.ExcelFile('2020_uryou_r2.xlsx')\n",
    "\n",
    "# List all sheets in the file\n",
    "print(xls.sheet_names)"
   ]
  },
  {
   "cell_type": "markdown",
   "id": "banned-customs",
   "metadata": {
    "id": "adopted-roulette"
   },
   "source": [
    "##### Rainfall data of each area:"
   ]
  },
  {
   "cell_type": "code",
   "execution_count": 4,
   "id": "distributed-insulin",
   "metadata": {
    "colab": {
     "base_uri": "https://localhost:8080/",
     "height": 423
    },
    "id": "broken-skill",
    "outputId": "959bac78-c0f7-4d26-b7c1-ec1fe4f45067"
   },
   "outputs": [
    {
     "data": {
      "text/html": [
       "\n",
       "  <div id=\"df-c994e7a2-5d40-4296-919f-e07a2197a875\">\n",
       "    <div class=\"colab-df-container\">\n",
       "      <div>\n",
       "<style scoped>\n",
       "    .dataframe tbody tr th:only-of-type {\n",
       "        vertical-align: middle;\n",
       "    }\n",
       "\n",
       "    .dataframe tbody tr th {\n",
       "        vertical-align: top;\n",
       "    }\n",
       "\n",
       "    .dataframe thead th {\n",
       "        text-align: right;\n",
       "    }\n",
       "</style>\n",
       "<table border=\"1\" class=\"dataframe\">\n",
       "  <thead>\n",
       "    <tr style=\"text-align: right;\">\n",
       "      <th></th>\n",
       "      <th>地方局</th>\n",
       "      <th>寝屋川</th>\n",
       "      <th>寝屋川.1</th>\n",
       "      <th>寝屋川.2</th>\n",
       "      <th>寝屋川.3</th>\n",
       "    </tr>\n",
       "  </thead>\n",
       "  <tbody>\n",
       "    <tr>\n",
       "      <th>6</th>\n",
       "      <td>2020年1月1日9時20分</td>\n",
       "      <td>0</td>\n",
       "      <td>0</td>\n",
       "      <td>0</td>\n",
       "      <td>0</td>\n",
       "    </tr>\n",
       "    <tr>\n",
       "      <th>7</th>\n",
       "      <td>2020年1月1日9時30分</td>\n",
       "      <td>0</td>\n",
       "      <td>0</td>\n",
       "      <td>0</td>\n",
       "      <td>0</td>\n",
       "    </tr>\n",
       "    <tr>\n",
       "      <th>8</th>\n",
       "      <td>2020年1月1日9時40分</td>\n",
       "      <td>0</td>\n",
       "      <td>0</td>\n",
       "      <td>0</td>\n",
       "      <td>0</td>\n",
       "    </tr>\n",
       "    <tr>\n",
       "      <th>9</th>\n",
       "      <td>2020年1月1日9時50分</td>\n",
       "      <td>0</td>\n",
       "      <td>0</td>\n",
       "      <td>0</td>\n",
       "      <td>0</td>\n",
       "    </tr>\n",
       "    <tr>\n",
       "      <th>10</th>\n",
       "      <td>2020年1月1日10時0分</td>\n",
       "      <td>0</td>\n",
       "      <td>0</td>\n",
       "      <td>0</td>\n",
       "      <td>0</td>\n",
       "    </tr>\n",
       "    <tr>\n",
       "      <th>...</th>\n",
       "      <td>...</td>\n",
       "      <td>...</td>\n",
       "      <td>...</td>\n",
       "      <td>...</td>\n",
       "      <td>...</td>\n",
       "    </tr>\n",
       "    <tr>\n",
       "      <th>52704</th>\n",
       "      <td>2021年1月1日8時20分</td>\n",
       "      <td>0</td>\n",
       "      <td>0</td>\n",
       "      <td>0</td>\n",
       "      <td>0</td>\n",
       "    </tr>\n",
       "    <tr>\n",
       "      <th>52705</th>\n",
       "      <td>2021年1月1日8時30分</td>\n",
       "      <td>0</td>\n",
       "      <td>0</td>\n",
       "      <td>0</td>\n",
       "      <td>0</td>\n",
       "    </tr>\n",
       "    <tr>\n",
       "      <th>52706</th>\n",
       "      <td>2021年1月1日8時40分</td>\n",
       "      <td>0</td>\n",
       "      <td>0</td>\n",
       "      <td>0</td>\n",
       "      <td>0</td>\n",
       "    </tr>\n",
       "    <tr>\n",
       "      <th>52707</th>\n",
       "      <td>2021年1月1日8時50分</td>\n",
       "      <td>0</td>\n",
       "      <td>0</td>\n",
       "      <td>0</td>\n",
       "      <td>0</td>\n",
       "    </tr>\n",
       "    <tr>\n",
       "      <th>52708</th>\n",
       "      <td>2021年1月1日9時0分</td>\n",
       "      <td>0</td>\n",
       "      <td>0</td>\n",
       "      <td>0</td>\n",
       "      <td>0</td>\n",
       "    </tr>\n",
       "  </tbody>\n",
       "</table>\n",
       "<p>52703 rows × 5 columns</p>\n",
       "</div>\n",
       "      <button class=\"colab-df-convert\" onclick=\"convertToInteractive('df-c994e7a2-5d40-4296-919f-e07a2197a875')\"\n",
       "              title=\"Convert this dataframe to an interactive table.\"\n",
       "              style=\"display:none;\">\n",
       "        \n",
       "  <svg xmlns=\"http://www.w3.org/2000/svg\" height=\"24px\"viewBox=\"0 0 24 24\"\n",
       "       width=\"24px\">\n",
       "    <path d=\"M0 0h24v24H0V0z\" fill=\"none\"/>\n",
       "    <path d=\"M18.56 5.44l.94 2.06.94-2.06 2.06-.94-2.06-.94-.94-2.06-.94 2.06-2.06.94zm-11 1L8.5 8.5l.94-2.06 2.06-.94-2.06-.94L8.5 2.5l-.94 2.06-2.06.94zm10 10l.94 2.06.94-2.06 2.06-.94-2.06-.94-.94-2.06-.94 2.06-2.06.94z\"/><path d=\"M17.41 7.96l-1.37-1.37c-.4-.4-.92-.59-1.43-.59-.52 0-1.04.2-1.43.59L10.3 9.45l-7.72 7.72c-.78.78-.78 2.05 0 2.83L4 21.41c.39.39.9.59 1.41.59.51 0 1.02-.2 1.41-.59l7.78-7.78 2.81-2.81c.8-.78.8-2.07 0-2.86zM5.41 20L4 18.59l7.72-7.72 1.47 1.35L5.41 20z\"/>\n",
       "  </svg>\n",
       "      </button>\n",
       "      \n",
       "  <style>\n",
       "    .colab-df-container {\n",
       "      display:flex;\n",
       "      flex-wrap:wrap;\n",
       "      gap: 12px;\n",
       "    }\n",
       "\n",
       "    .colab-df-convert {\n",
       "      background-color: #E8F0FE;\n",
       "      border: none;\n",
       "      border-radius: 50%;\n",
       "      cursor: pointer;\n",
       "      display: none;\n",
       "      fill: #1967D2;\n",
       "      height: 32px;\n",
       "      padding: 0 0 0 0;\n",
       "      width: 32px;\n",
       "    }\n",
       "\n",
       "    .colab-df-convert:hover {\n",
       "      background-color: #E2EBFA;\n",
       "      box-shadow: 0px 1px 2px rgba(60, 64, 67, 0.3), 0px 1px 3px 1px rgba(60, 64, 67, 0.15);\n",
       "      fill: #174EA6;\n",
       "    }\n",
       "\n",
       "    [theme=dark] .colab-df-convert {\n",
       "      background-color: #3B4455;\n",
       "      fill: #D2E3FC;\n",
       "    }\n",
       "\n",
       "    [theme=dark] .colab-df-convert:hover {\n",
       "      background-color: #434B5C;\n",
       "      box-shadow: 0px 1px 3px 1px rgba(0, 0, 0, 0.15);\n",
       "      filter: drop-shadow(0px 1px 2px rgba(0, 0, 0, 0.3));\n",
       "      fill: #FFFFFF;\n",
       "    }\n",
       "  </style>\n",
       "\n",
       "      <script>\n",
       "        const buttonEl =\n",
       "          document.querySelector('#df-c994e7a2-5d40-4296-919f-e07a2197a875 button.colab-df-convert');\n",
       "        buttonEl.style.display =\n",
       "          google.colab.kernel.accessAllowed ? 'block' : 'none';\n",
       "\n",
       "        async function convertToInteractive(key) {\n",
       "          const element = document.querySelector('#df-c994e7a2-5d40-4296-919f-e07a2197a875');\n",
       "          const dataTable =\n",
       "            await google.colab.kernel.invokeFunction('convertToInteractive',\n",
       "                                                     [key], {});\n",
       "          if (!dataTable) return;\n",
       "\n",
       "          const docLinkHtml = 'Like what you see? Visit the ' +\n",
       "            '<a target=\"_blank\" href=https://colab.research.google.com/notebooks/data_table.ipynb>data table notebook</a>'\n",
       "            + ' to learn more about interactive tables.';\n",
       "          element.innerHTML = '';\n",
       "          dataTable['output_type'] = 'display_data';\n",
       "          await google.colab.output.renderOutput(dataTable, element);\n",
       "          const docLink = document.createElement('div');\n",
       "          docLink.innerHTML = docLinkHtml;\n",
       "          element.appendChild(docLink);\n",
       "        }\n",
       "      </script>\n",
       "    </div>\n",
       "  </div>\n",
       "  "
      ],
      "text/plain": [
       "                  地方局 寝屋川 寝屋川.1 寝屋川.2 寝屋川.3\n",
       "6      2020年1月1日9時20分   0     0     0     0\n",
       "7      2020年1月1日9時30分   0     0     0     0\n",
       "8      2020年1月1日9時40分   0     0     0     0\n",
       "9      2020年1月1日9時50分   0     0     0     0\n",
       "10     2020年1月1日10時0分   0     0     0     0\n",
       "...               ...  ..   ...   ...   ...\n",
       "52704  2021年1月1日8時20分   0     0     0     0\n",
       "52705  2021年1月1日8時30分   0     0     0     0\n",
       "52706  2021年1月1日8時40分   0     0     0     0\n",
       "52707  2021年1月1日8時50分   0     0     0     0\n",
       "52708   2021年1月1日9時0分   0     0     0     0\n",
       "\n",
       "[52703 rows x 5 columns]"
      ]
     },
     "metadata": {},
     "output_type": "display_data"
    }
   ],
   "source": [
    "df_neyagawa = pd.read_excel('2020_uryou_r2.xlsx', sheet_name=\"2020_寝屋川\")\n",
    "df_neyagawa = df_neyagawa.iloc[6:, :]\n",
    "display(df_neyagawa)"
   ]
  },
  {
   "cell_type": "code",
   "execution_count": 5,
   "id": "german-kingston",
   "metadata": {
    "colab": {
     "base_uri": "https://localhost:8080/",
     "height": 423
    },
    "id": "changing-marble",
    "outputId": "34ccdab6-51ac-4d49-d17e-f5e8961ec841"
   },
   "outputs": [
    {
     "data": {
      "text/html": [
       "\n",
       "  <div id=\"df-f1a43f6d-9293-4918-97b5-1b6502ea447a\">\n",
       "    <div class=\"colab-df-container\">\n",
       "      <div>\n",
       "<style scoped>\n",
       "    .dataframe tbody tr th:only-of-type {\n",
       "        vertical-align: middle;\n",
       "    }\n",
       "\n",
       "    .dataframe tbody tr th {\n",
       "        vertical-align: top;\n",
       "    }\n",
       "\n",
       "    .dataframe thead th {\n",
       "        text-align: right;\n",
       "    }\n",
       "</style>\n",
       "<table border=\"1\" class=\"dataframe\">\n",
       "  <thead>\n",
       "    <tr style=\"text-align: right;\">\n",
       "      <th></th>\n",
       "      <th>地方局</th>\n",
       "      <th>枚方</th>\n",
       "      <th>枚方.1</th>\n",
       "      <th>枚方.2</th>\n",
       "      <th>枚方.3</th>\n",
       "    </tr>\n",
       "  </thead>\n",
       "  <tbody>\n",
       "    <tr>\n",
       "      <th>6</th>\n",
       "      <td>2020年1月1日9時20分</td>\n",
       "      <td>0</td>\n",
       "      <td>0</td>\n",
       "      <td>0</td>\n",
       "      <td>0</td>\n",
       "    </tr>\n",
       "    <tr>\n",
       "      <th>7</th>\n",
       "      <td>2020年1月1日9時30分</td>\n",
       "      <td>0</td>\n",
       "      <td>0</td>\n",
       "      <td>0</td>\n",
       "      <td>0</td>\n",
       "    </tr>\n",
       "    <tr>\n",
       "      <th>8</th>\n",
       "      <td>2020年1月1日9時40分</td>\n",
       "      <td>0</td>\n",
       "      <td>0</td>\n",
       "      <td>0</td>\n",
       "      <td>0</td>\n",
       "    </tr>\n",
       "    <tr>\n",
       "      <th>9</th>\n",
       "      <td>2020年1月1日9時50分</td>\n",
       "      <td>0</td>\n",
       "      <td>0</td>\n",
       "      <td>0</td>\n",
       "      <td>0</td>\n",
       "    </tr>\n",
       "    <tr>\n",
       "      <th>10</th>\n",
       "      <td>2020年1月1日10時0分</td>\n",
       "      <td>0</td>\n",
       "      <td>0</td>\n",
       "      <td>0</td>\n",
       "      <td>0</td>\n",
       "    </tr>\n",
       "    <tr>\n",
       "      <th>...</th>\n",
       "      <td>...</td>\n",
       "      <td>...</td>\n",
       "      <td>...</td>\n",
       "      <td>...</td>\n",
       "      <td>...</td>\n",
       "    </tr>\n",
       "    <tr>\n",
       "      <th>52704</th>\n",
       "      <td>2021年1月1日8時20分</td>\n",
       "      <td>0</td>\n",
       "      <td>0</td>\n",
       "      <td>0</td>\n",
       "      <td>0</td>\n",
       "    </tr>\n",
       "    <tr>\n",
       "      <th>52705</th>\n",
       "      <td>2021年1月1日8時30分</td>\n",
       "      <td>0</td>\n",
       "      <td>0</td>\n",
       "      <td>0</td>\n",
       "      <td>0</td>\n",
       "    </tr>\n",
       "    <tr>\n",
       "      <th>52706</th>\n",
       "      <td>2021年1月1日8時40分</td>\n",
       "      <td>0</td>\n",
       "      <td>0</td>\n",
       "      <td>0</td>\n",
       "      <td>0</td>\n",
       "    </tr>\n",
       "    <tr>\n",
       "      <th>52707</th>\n",
       "      <td>2021年1月1日8時50分</td>\n",
       "      <td>0</td>\n",
       "      <td>0</td>\n",
       "      <td>0</td>\n",
       "      <td>0</td>\n",
       "    </tr>\n",
       "    <tr>\n",
       "      <th>52708</th>\n",
       "      <td>2021年1月1日9時0分</td>\n",
       "      <td>0</td>\n",
       "      <td>0</td>\n",
       "      <td>0</td>\n",
       "      <td>0</td>\n",
       "    </tr>\n",
       "  </tbody>\n",
       "</table>\n",
       "<p>52703 rows × 5 columns</p>\n",
       "</div>\n",
       "      <button class=\"colab-df-convert\" onclick=\"convertToInteractive('df-f1a43f6d-9293-4918-97b5-1b6502ea447a')\"\n",
       "              title=\"Convert this dataframe to an interactive table.\"\n",
       "              style=\"display:none;\">\n",
       "        \n",
       "  <svg xmlns=\"http://www.w3.org/2000/svg\" height=\"24px\"viewBox=\"0 0 24 24\"\n",
       "       width=\"24px\">\n",
       "    <path d=\"M0 0h24v24H0V0z\" fill=\"none\"/>\n",
       "    <path d=\"M18.56 5.44l.94 2.06.94-2.06 2.06-.94-2.06-.94-.94-2.06-.94 2.06-2.06.94zm-11 1L8.5 8.5l.94-2.06 2.06-.94-2.06-.94L8.5 2.5l-.94 2.06-2.06.94zm10 10l.94 2.06.94-2.06 2.06-.94-2.06-.94-.94-2.06-.94 2.06-2.06.94z\"/><path d=\"M17.41 7.96l-1.37-1.37c-.4-.4-.92-.59-1.43-.59-.52 0-1.04.2-1.43.59L10.3 9.45l-7.72 7.72c-.78.78-.78 2.05 0 2.83L4 21.41c.39.39.9.59 1.41.59.51 0 1.02-.2 1.41-.59l7.78-7.78 2.81-2.81c.8-.78.8-2.07 0-2.86zM5.41 20L4 18.59l7.72-7.72 1.47 1.35L5.41 20z\"/>\n",
       "  </svg>\n",
       "      </button>\n",
       "      \n",
       "  <style>\n",
       "    .colab-df-container {\n",
       "      display:flex;\n",
       "      flex-wrap:wrap;\n",
       "      gap: 12px;\n",
       "    }\n",
       "\n",
       "    .colab-df-convert {\n",
       "      background-color: #E8F0FE;\n",
       "      border: none;\n",
       "      border-radius: 50%;\n",
       "      cursor: pointer;\n",
       "      display: none;\n",
       "      fill: #1967D2;\n",
       "      height: 32px;\n",
       "      padding: 0 0 0 0;\n",
       "      width: 32px;\n",
       "    }\n",
       "\n",
       "    .colab-df-convert:hover {\n",
       "      background-color: #E2EBFA;\n",
       "      box-shadow: 0px 1px 2px rgba(60, 64, 67, 0.3), 0px 1px 3px 1px rgba(60, 64, 67, 0.15);\n",
       "      fill: #174EA6;\n",
       "    }\n",
       "\n",
       "    [theme=dark] .colab-df-convert {\n",
       "      background-color: #3B4455;\n",
       "      fill: #D2E3FC;\n",
       "    }\n",
       "\n",
       "    [theme=dark] .colab-df-convert:hover {\n",
       "      background-color: #434B5C;\n",
       "      box-shadow: 0px 1px 3px 1px rgba(0, 0, 0, 0.15);\n",
       "      filter: drop-shadow(0px 1px 2px rgba(0, 0, 0, 0.3));\n",
       "      fill: #FFFFFF;\n",
       "    }\n",
       "  </style>\n",
       "\n",
       "      <script>\n",
       "        const buttonEl =\n",
       "          document.querySelector('#df-f1a43f6d-9293-4918-97b5-1b6502ea447a button.colab-df-convert');\n",
       "        buttonEl.style.display =\n",
       "          google.colab.kernel.accessAllowed ? 'block' : 'none';\n",
       "\n",
       "        async function convertToInteractive(key) {\n",
       "          const element = document.querySelector('#df-f1a43f6d-9293-4918-97b5-1b6502ea447a');\n",
       "          const dataTable =\n",
       "            await google.colab.kernel.invokeFunction('convertToInteractive',\n",
       "                                                     [key], {});\n",
       "          if (!dataTable) return;\n",
       "\n",
       "          const docLinkHtml = 'Like what you see? Visit the ' +\n",
       "            '<a target=\"_blank\" href=https://colab.research.google.com/notebooks/data_table.ipynb>data table notebook</a>'\n",
       "            + ' to learn more about interactive tables.';\n",
       "          element.innerHTML = '';\n",
       "          dataTable['output_type'] = 'display_data';\n",
       "          await google.colab.output.renderOutput(dataTable, element);\n",
       "          const docLink = document.createElement('div');\n",
       "          docLink.innerHTML = docLinkHtml;\n",
       "          element.appendChild(docLink);\n",
       "        }\n",
       "      </script>\n",
       "    </div>\n",
       "  </div>\n",
       "  "
      ],
      "text/plain": [
       "                  地方局 枚方 枚方.1 枚方.2 枚方.3\n",
       "6      2020年1月1日9時20分  0    0    0    0\n",
       "7      2020年1月1日9時30分  0    0    0    0\n",
       "8      2020年1月1日9時40分  0    0    0    0\n",
       "9      2020年1月1日9時50分  0    0    0    0\n",
       "10     2020年1月1日10時0分  0    0    0    0\n",
       "...               ... ..  ...  ...  ...\n",
       "52704  2021年1月1日8時20分  0    0    0    0\n",
       "52705  2021年1月1日8時30分  0    0    0    0\n",
       "52706  2021年1月1日8時40分  0    0    0    0\n",
       "52707  2021年1月1日8時50分  0    0    0    0\n",
       "52708   2021年1月1日9時0分  0    0    0    0\n",
       "\n",
       "[52703 rows x 5 columns]"
      ]
     },
     "metadata": {},
     "output_type": "display_data"
    }
   ],
   "source": [
    "df_hirakata = pd.read_excel('2020_uryou_r2.xlsx', sheet_name=\"2020_枚方\")\n",
    "df_hirakata = df_hirakata.iloc[6:, :]\n",
    "display(df_hirakata)"
   ]
  },
  {
   "cell_type": "code",
   "execution_count": 6,
   "id": "polyphonic-northern",
   "metadata": {
    "colab": {
     "base_uri": "https://localhost:8080/",
     "height": 423
    },
    "id": "environmental-basketball",
    "outputId": "7219ad6f-0c9b-452a-ac36-adef0e9b0d6b"
   },
   "outputs": [
    {
     "data": {
      "text/html": [
       "\n",
       "  <div id=\"df-24b76532-6a76-4b95-8e66-b8bb5327e49c\">\n",
       "    <div class=\"colab-df-container\">\n",
       "      <div>\n",
       "<style scoped>\n",
       "    .dataframe tbody tr th:only-of-type {\n",
       "        vertical-align: middle;\n",
       "    }\n",
       "\n",
       "    .dataframe tbody tr th {\n",
       "        vertical-align: top;\n",
       "    }\n",
       "\n",
       "    .dataframe thead th {\n",
       "        text-align: right;\n",
       "    }\n",
       "</style>\n",
       "<table border=\"1\" class=\"dataframe\">\n",
       "  <thead>\n",
       "    <tr style=\"text-align: right;\">\n",
       "      <th></th>\n",
       "      <th>地方局</th>\n",
       "      <th>茨木</th>\n",
       "      <th>茨木.1</th>\n",
       "      <th>茨木.2</th>\n",
       "      <th>茨木.3</th>\n",
       "      <th>茨木.4</th>\n",
       "      <th>茨木.5</th>\n",
       "    </tr>\n",
       "  </thead>\n",
       "  <tbody>\n",
       "    <tr>\n",
       "      <th>6</th>\n",
       "      <td>2020年1月1日9時20分</td>\n",
       "      <td>0</td>\n",
       "      <td>0</td>\n",
       "      <td>0</td>\n",
       "      <td>0</td>\n",
       "      <td>0</td>\n",
       "      <td>0</td>\n",
       "    </tr>\n",
       "    <tr>\n",
       "      <th>7</th>\n",
       "      <td>2020年1月1日9時30分</td>\n",
       "      <td>0</td>\n",
       "      <td>0</td>\n",
       "      <td>0</td>\n",
       "      <td>0</td>\n",
       "      <td>0</td>\n",
       "      <td>0</td>\n",
       "    </tr>\n",
       "    <tr>\n",
       "      <th>8</th>\n",
       "      <td>2020年1月1日9時40分</td>\n",
       "      <td>0</td>\n",
       "      <td>0</td>\n",
       "      <td>0</td>\n",
       "      <td>0</td>\n",
       "      <td>0</td>\n",
       "      <td>0</td>\n",
       "    </tr>\n",
       "    <tr>\n",
       "      <th>9</th>\n",
       "      <td>2020年1月1日9時50分</td>\n",
       "      <td>0</td>\n",
       "      <td>0</td>\n",
       "      <td>0</td>\n",
       "      <td>0</td>\n",
       "      <td>0</td>\n",
       "      <td>0</td>\n",
       "    </tr>\n",
       "    <tr>\n",
       "      <th>10</th>\n",
       "      <td>2020年1月1日10時0分</td>\n",
       "      <td>0</td>\n",
       "      <td>0</td>\n",
       "      <td>0</td>\n",
       "      <td>0</td>\n",
       "      <td>0</td>\n",
       "      <td>0</td>\n",
       "    </tr>\n",
       "    <tr>\n",
       "      <th>...</th>\n",
       "      <td>...</td>\n",
       "      <td>...</td>\n",
       "      <td>...</td>\n",
       "      <td>...</td>\n",
       "      <td>...</td>\n",
       "      <td>...</td>\n",
       "      <td>...</td>\n",
       "    </tr>\n",
       "    <tr>\n",
       "      <th>52704</th>\n",
       "      <td>2021年1月1日8時20分</td>\n",
       "      <td>0</td>\n",
       "      <td>0</td>\n",
       "      <td>0</td>\n",
       "      <td>0</td>\n",
       "      <td>0</td>\n",
       "      <td>0</td>\n",
       "    </tr>\n",
       "    <tr>\n",
       "      <th>52705</th>\n",
       "      <td>2021年1月1日8時30分</td>\n",
       "      <td>0</td>\n",
       "      <td>0</td>\n",
       "      <td>0</td>\n",
       "      <td>0</td>\n",
       "      <td>0</td>\n",
       "      <td>0</td>\n",
       "    </tr>\n",
       "    <tr>\n",
       "      <th>52706</th>\n",
       "      <td>2021年1月1日8時40分</td>\n",
       "      <td>0</td>\n",
       "      <td>0</td>\n",
       "      <td>0</td>\n",
       "      <td>0</td>\n",
       "      <td>0</td>\n",
       "      <td>0</td>\n",
       "    </tr>\n",
       "    <tr>\n",
       "      <th>52707</th>\n",
       "      <td>2021年1月1日8時50分</td>\n",
       "      <td>0</td>\n",
       "      <td>0</td>\n",
       "      <td>0</td>\n",
       "      <td>0</td>\n",
       "      <td>0</td>\n",
       "      <td>0</td>\n",
       "    </tr>\n",
       "    <tr>\n",
       "      <th>52708</th>\n",
       "      <td>2021年1月1日9時0分</td>\n",
       "      <td>0</td>\n",
       "      <td>0</td>\n",
       "      <td>0</td>\n",
       "      <td>0</td>\n",
       "      <td>0</td>\n",
       "      <td>0</td>\n",
       "    </tr>\n",
       "  </tbody>\n",
       "</table>\n",
       "<p>52703 rows × 7 columns</p>\n",
       "</div>\n",
       "      <button class=\"colab-df-convert\" onclick=\"convertToInteractive('df-24b76532-6a76-4b95-8e66-b8bb5327e49c')\"\n",
       "              title=\"Convert this dataframe to an interactive table.\"\n",
       "              style=\"display:none;\">\n",
       "        \n",
       "  <svg xmlns=\"http://www.w3.org/2000/svg\" height=\"24px\"viewBox=\"0 0 24 24\"\n",
       "       width=\"24px\">\n",
       "    <path d=\"M0 0h24v24H0V0z\" fill=\"none\"/>\n",
       "    <path d=\"M18.56 5.44l.94 2.06.94-2.06 2.06-.94-2.06-.94-.94-2.06-.94 2.06-2.06.94zm-11 1L8.5 8.5l.94-2.06 2.06-.94-2.06-.94L8.5 2.5l-.94 2.06-2.06.94zm10 10l.94 2.06.94-2.06 2.06-.94-2.06-.94-.94-2.06-.94 2.06-2.06.94z\"/><path d=\"M17.41 7.96l-1.37-1.37c-.4-.4-.92-.59-1.43-.59-.52 0-1.04.2-1.43.59L10.3 9.45l-7.72 7.72c-.78.78-.78 2.05 0 2.83L4 21.41c.39.39.9.59 1.41.59.51 0 1.02-.2 1.41-.59l7.78-7.78 2.81-2.81c.8-.78.8-2.07 0-2.86zM5.41 20L4 18.59l7.72-7.72 1.47 1.35L5.41 20z\"/>\n",
       "  </svg>\n",
       "      </button>\n",
       "      \n",
       "  <style>\n",
       "    .colab-df-container {\n",
       "      display:flex;\n",
       "      flex-wrap:wrap;\n",
       "      gap: 12px;\n",
       "    }\n",
       "\n",
       "    .colab-df-convert {\n",
       "      background-color: #E8F0FE;\n",
       "      border: none;\n",
       "      border-radius: 50%;\n",
       "      cursor: pointer;\n",
       "      display: none;\n",
       "      fill: #1967D2;\n",
       "      height: 32px;\n",
       "      padding: 0 0 0 0;\n",
       "      width: 32px;\n",
       "    }\n",
       "\n",
       "    .colab-df-convert:hover {\n",
       "      background-color: #E2EBFA;\n",
       "      box-shadow: 0px 1px 2px rgba(60, 64, 67, 0.3), 0px 1px 3px 1px rgba(60, 64, 67, 0.15);\n",
       "      fill: #174EA6;\n",
       "    }\n",
       "\n",
       "    [theme=dark] .colab-df-convert {\n",
       "      background-color: #3B4455;\n",
       "      fill: #D2E3FC;\n",
       "    }\n",
       "\n",
       "    [theme=dark] .colab-df-convert:hover {\n",
       "      background-color: #434B5C;\n",
       "      box-shadow: 0px 1px 3px 1px rgba(0, 0, 0, 0.15);\n",
       "      filter: drop-shadow(0px 1px 2px rgba(0, 0, 0, 0.3));\n",
       "      fill: #FFFFFF;\n",
       "    }\n",
       "  </style>\n",
       "\n",
       "      <script>\n",
       "        const buttonEl =\n",
       "          document.querySelector('#df-24b76532-6a76-4b95-8e66-b8bb5327e49c button.colab-df-convert');\n",
       "        buttonEl.style.display =\n",
       "          google.colab.kernel.accessAllowed ? 'block' : 'none';\n",
       "\n",
       "        async function convertToInteractive(key) {\n",
       "          const element = document.querySelector('#df-24b76532-6a76-4b95-8e66-b8bb5327e49c');\n",
       "          const dataTable =\n",
       "            await google.colab.kernel.invokeFunction('convertToInteractive',\n",
       "                                                     [key], {});\n",
       "          if (!dataTable) return;\n",
       "\n",
       "          const docLinkHtml = 'Like what you see? Visit the ' +\n",
       "            '<a target=\"_blank\" href=https://colab.research.google.com/notebooks/data_table.ipynb>data table notebook</a>'\n",
       "            + ' to learn more about interactive tables.';\n",
       "          element.innerHTML = '';\n",
       "          dataTable['output_type'] = 'display_data';\n",
       "          await google.colab.output.renderOutput(dataTable, element);\n",
       "          const docLink = document.createElement('div');\n",
       "          docLink.innerHTML = docLinkHtml;\n",
       "          element.appendChild(docLink);\n",
       "        }\n",
       "      </script>\n",
       "    </div>\n",
       "  </div>\n",
       "  "
      ],
      "text/plain": [
       "                  地方局 茨木 茨木.1 茨木.2 茨木.3 茨木.4 茨木.5\n",
       "6      2020年1月1日9時20分  0    0    0    0    0    0\n",
       "7      2020年1月1日9時30分  0    0    0    0    0    0\n",
       "8      2020年1月1日9時40分  0    0    0    0    0    0\n",
       "9      2020年1月1日9時50分  0    0    0    0    0    0\n",
       "10     2020年1月1日10時0分  0    0    0    0    0    0\n",
       "...               ... ..  ...  ...  ...  ...  ...\n",
       "52704  2021年1月1日8時20分  0    0    0    0    0    0\n",
       "52705  2021年1月1日8時30分  0    0    0    0    0    0\n",
       "52706  2021年1月1日8時40分  0    0    0    0    0    0\n",
       "52707  2021年1月1日8時50分  0    0    0    0    0    0\n",
       "52708   2021年1月1日9時0分  0    0    0    0    0    0\n",
       "\n",
       "[52703 rows x 7 columns]"
      ]
     },
     "metadata": {},
     "output_type": "display_data"
    }
   ],
   "source": [
    "df_ibaraki = pd.read_excel('2020_uryou_r2.xlsx', sheet_name=\"2020_茨木\")\n",
    "df_ibaraki = df_ibaraki.iloc[6:, :]\n",
    "display(df_ibaraki)"
   ]
  },
  {
   "cell_type": "code",
   "execution_count": 7,
   "id": "stone-aberdeen",
   "metadata": {
    "colab": {
     "base_uri": "https://localhost:8080/",
     "height": 423
    },
    "id": "martial-wells",
    "outputId": "2d066529-ea47-4038-fbc8-2d3dbef522cc"
   },
   "outputs": [
    {
     "data": {
      "text/html": [
       "\n",
       "  <div id=\"df-044779cf-210e-4944-980f-872791ad29ff\">\n",
       "    <div class=\"colab-df-container\">\n",
       "      <div>\n",
       "<style scoped>\n",
       "    .dataframe tbody tr th:only-of-type {\n",
       "        vertical-align: middle;\n",
       "    }\n",
       "\n",
       "    .dataframe tbody tr th {\n",
       "        vertical-align: top;\n",
       "    }\n",
       "\n",
       "    .dataframe thead th {\n",
       "        text-align: right;\n",
       "    }\n",
       "</style>\n",
       "<table border=\"1\" class=\"dataframe\">\n",
       "  <thead>\n",
       "    <tr style=\"text-align: right;\">\n",
       "      <th></th>\n",
       "      <th>地方局</th>\n",
       "      <th>西大阪</th>\n",
       "      <th>西大阪.1</th>\n",
       "      <th>西大阪.2</th>\n",
       "      <th>西大阪.3</th>\n",
       "    </tr>\n",
       "  </thead>\n",
       "  <tbody>\n",
       "    <tr>\n",
       "      <th>6</th>\n",
       "      <td>2020年1月1日9時20分</td>\n",
       "      <td>0</td>\n",
       "      <td>0</td>\n",
       "      <td>0</td>\n",
       "      <td>0</td>\n",
       "    </tr>\n",
       "    <tr>\n",
       "      <th>7</th>\n",
       "      <td>2020年1月1日9時30分</td>\n",
       "      <td>0</td>\n",
       "      <td>0</td>\n",
       "      <td>0</td>\n",
       "      <td>0</td>\n",
       "    </tr>\n",
       "    <tr>\n",
       "      <th>8</th>\n",
       "      <td>2020年1月1日9時40分</td>\n",
       "      <td>0</td>\n",
       "      <td>0</td>\n",
       "      <td>0</td>\n",
       "      <td>0</td>\n",
       "    </tr>\n",
       "    <tr>\n",
       "      <th>9</th>\n",
       "      <td>2020年1月1日9時50分</td>\n",
       "      <td>0</td>\n",
       "      <td>0</td>\n",
       "      <td>0</td>\n",
       "      <td>0</td>\n",
       "    </tr>\n",
       "    <tr>\n",
       "      <th>10</th>\n",
       "      <td>2020年1月1日10時0分</td>\n",
       "      <td>0</td>\n",
       "      <td>0</td>\n",
       "      <td>0</td>\n",
       "      <td>0</td>\n",
       "    </tr>\n",
       "    <tr>\n",
       "      <th>...</th>\n",
       "      <td>...</td>\n",
       "      <td>...</td>\n",
       "      <td>...</td>\n",
       "      <td>...</td>\n",
       "      <td>...</td>\n",
       "    </tr>\n",
       "    <tr>\n",
       "      <th>52704</th>\n",
       "      <td>2021年1月1日8時20分</td>\n",
       "      <td>0</td>\n",
       "      <td>0</td>\n",
       "      <td>0</td>\n",
       "      <td>0</td>\n",
       "    </tr>\n",
       "    <tr>\n",
       "      <th>52705</th>\n",
       "      <td>2021年1月1日8時30分</td>\n",
       "      <td>0</td>\n",
       "      <td>0</td>\n",
       "      <td>0</td>\n",
       "      <td>0</td>\n",
       "    </tr>\n",
       "    <tr>\n",
       "      <th>52706</th>\n",
       "      <td>2021年1月1日8時40分</td>\n",
       "      <td>0</td>\n",
       "      <td>0</td>\n",
       "      <td>0</td>\n",
       "      <td>0</td>\n",
       "    </tr>\n",
       "    <tr>\n",
       "      <th>52707</th>\n",
       "      <td>2021年1月1日8時50分</td>\n",
       "      <td>0</td>\n",
       "      <td>0</td>\n",
       "      <td>0</td>\n",
       "      <td>0</td>\n",
       "    </tr>\n",
       "    <tr>\n",
       "      <th>52708</th>\n",
       "      <td>2021年1月1日9時0分</td>\n",
       "      <td>0</td>\n",
       "      <td>0</td>\n",
       "      <td>0</td>\n",
       "      <td>0</td>\n",
       "    </tr>\n",
       "  </tbody>\n",
       "</table>\n",
       "<p>52703 rows × 5 columns</p>\n",
       "</div>\n",
       "      <button class=\"colab-df-convert\" onclick=\"convertToInteractive('df-044779cf-210e-4944-980f-872791ad29ff')\"\n",
       "              title=\"Convert this dataframe to an interactive table.\"\n",
       "              style=\"display:none;\">\n",
       "        \n",
       "  <svg xmlns=\"http://www.w3.org/2000/svg\" height=\"24px\"viewBox=\"0 0 24 24\"\n",
       "       width=\"24px\">\n",
       "    <path d=\"M0 0h24v24H0V0z\" fill=\"none\"/>\n",
       "    <path d=\"M18.56 5.44l.94 2.06.94-2.06 2.06-.94-2.06-.94-.94-2.06-.94 2.06-2.06.94zm-11 1L8.5 8.5l.94-2.06 2.06-.94-2.06-.94L8.5 2.5l-.94 2.06-2.06.94zm10 10l.94 2.06.94-2.06 2.06-.94-2.06-.94-.94-2.06-.94 2.06-2.06.94z\"/><path d=\"M17.41 7.96l-1.37-1.37c-.4-.4-.92-.59-1.43-.59-.52 0-1.04.2-1.43.59L10.3 9.45l-7.72 7.72c-.78.78-.78 2.05 0 2.83L4 21.41c.39.39.9.59 1.41.59.51 0 1.02-.2 1.41-.59l7.78-7.78 2.81-2.81c.8-.78.8-2.07 0-2.86zM5.41 20L4 18.59l7.72-7.72 1.47 1.35L5.41 20z\"/>\n",
       "  </svg>\n",
       "      </button>\n",
       "      \n",
       "  <style>\n",
       "    .colab-df-container {\n",
       "      display:flex;\n",
       "      flex-wrap:wrap;\n",
       "      gap: 12px;\n",
       "    }\n",
       "\n",
       "    .colab-df-convert {\n",
       "      background-color: #E8F0FE;\n",
       "      border: none;\n",
       "      border-radius: 50%;\n",
       "      cursor: pointer;\n",
       "      display: none;\n",
       "      fill: #1967D2;\n",
       "      height: 32px;\n",
       "      padding: 0 0 0 0;\n",
       "      width: 32px;\n",
       "    }\n",
       "\n",
       "    .colab-df-convert:hover {\n",
       "      background-color: #E2EBFA;\n",
       "      box-shadow: 0px 1px 2px rgba(60, 64, 67, 0.3), 0px 1px 3px 1px rgba(60, 64, 67, 0.15);\n",
       "      fill: #174EA6;\n",
       "    }\n",
       "\n",
       "    [theme=dark] .colab-df-convert {\n",
       "      background-color: #3B4455;\n",
       "      fill: #D2E3FC;\n",
       "    }\n",
       "\n",
       "    [theme=dark] .colab-df-convert:hover {\n",
       "      background-color: #434B5C;\n",
       "      box-shadow: 0px 1px 3px 1px rgba(0, 0, 0, 0.15);\n",
       "      filter: drop-shadow(0px 1px 2px rgba(0, 0, 0, 0.3));\n",
       "      fill: #FFFFFF;\n",
       "    }\n",
       "  </style>\n",
       "\n",
       "      <script>\n",
       "        const buttonEl =\n",
       "          document.querySelector('#df-044779cf-210e-4944-980f-872791ad29ff button.colab-df-convert');\n",
       "        buttonEl.style.display =\n",
       "          google.colab.kernel.accessAllowed ? 'block' : 'none';\n",
       "\n",
       "        async function convertToInteractive(key) {\n",
       "          const element = document.querySelector('#df-044779cf-210e-4944-980f-872791ad29ff');\n",
       "          const dataTable =\n",
       "            await google.colab.kernel.invokeFunction('convertToInteractive',\n",
       "                                                     [key], {});\n",
       "          if (!dataTable) return;\n",
       "\n",
       "          const docLinkHtml = 'Like what you see? Visit the ' +\n",
       "            '<a target=\"_blank\" href=https://colab.research.google.com/notebooks/data_table.ipynb>data table notebook</a>'\n",
       "            + ' to learn more about interactive tables.';\n",
       "          element.innerHTML = '';\n",
       "          dataTable['output_type'] = 'display_data';\n",
       "          await google.colab.output.renderOutput(dataTable, element);\n",
       "          const docLink = document.createElement('div');\n",
       "          docLink.innerHTML = docLinkHtml;\n",
       "          element.appendChild(docLink);\n",
       "        }\n",
       "      </script>\n",
       "    </div>\n",
       "  </div>\n",
       "  "
      ],
      "text/plain": [
       "                  地方局 西大阪 西大阪.1 西大阪.2 西大阪.3\n",
       "6      2020年1月1日9時20分   0     0     0     0\n",
       "7      2020年1月1日9時30分   0     0     0     0\n",
       "8      2020年1月1日9時40分   0     0     0     0\n",
       "9      2020年1月1日9時50分   0     0     0     0\n",
       "10     2020年1月1日10時0分   0     0     0     0\n",
       "...               ...  ..   ...   ...   ...\n",
       "52704  2021年1月1日8時20分   0     0     0     0\n",
       "52705  2021年1月1日8時30分   0     0     0     0\n",
       "52706  2021年1月1日8時40分   0     0     0     0\n",
       "52707  2021年1月1日8時50分   0     0     0     0\n",
       "52708   2021年1月1日9時0分   0     0     0     0\n",
       "\n",
       "[52703 rows x 5 columns]"
      ]
     },
     "metadata": {},
     "output_type": "display_data"
    }
   ],
   "source": [
    "df_nishiosaka = pd.read_excel('2020_uryou_r2.xlsx', sheet_name=\"2020_西大阪\")\n",
    "df_nishiosaka = df_nishiosaka.iloc[6:, :]\n",
    "display(df_nishiosaka)"
   ]
  },
  {
   "cell_type": "markdown",
   "id": "funded-surfing",
   "metadata": {
    "id": "sustained-password"
   },
   "source": [
    "##### Total rainfall of each area: "
   ]
  },
  {
   "cell_type": "code",
   "execution_count": 8,
   "id": "noted-blake",
   "metadata": {
    "id": "monetary-chance"
   },
   "outputs": [],
   "source": [
    "df_neyagawa['寝屋川'] = df_neyagawa['寝屋川']+df_neyagawa['寝屋川.1']+df_neyagawa['寝屋川.2']+df_neyagawa['寝屋川.3']\n",
    "df_neyagawa = df_neyagawa[['地方局', '寝屋川']]\n",
    "df_hirakata['枚方'] = df_hirakata['枚方']+df_hirakata['枚方.1']+df_hirakata['枚方.2']+df_hirakata['枚方.3']\n",
    "df_hirakata = df_hirakata[['地方局', '枚方']]\n",
    "df_ibaraki['茨木'] = df_ibaraki['茨木']+df_ibaraki['茨木.1']+df_ibaraki['茨木.2']+df_ibaraki['茨木.3']+df_ibaraki['茨木.4']+df_ibaraki['茨木.5']\n",
    "df_ibaraki = df_ibaraki[['地方局', '茨木']]\n",
    "df_nishiosaka['西大阪'] = df_nishiosaka['西大阪']+df_nishiosaka['西大阪.1']+df_nishiosaka['西大阪.2']+df_nishiosaka['西大阪.3']\n",
    "df_nishiosaka = df_nishiosaka[['地方局', '西大阪']]"
   ]
  },
  {
   "cell_type": "markdown",
   "id": "relative-coordinate",
   "metadata": {
    "id": "electronic-implement"
   },
   "source": [
    "##### Output rainfall data:"
   ]
  },
  {
   "cell_type": "code",
   "execution_count": 18,
   "id": "early-experiment",
   "metadata": {
    "colab": {
     "base_uri": "https://localhost:8080/",
     "height": 423
    },
    "id": "municipal-alarm",
    "outputId": "d3ca9f11-955a-421a-834c-7f3550bb4586"
   },
   "outputs": [
    {
     "data": {
      "text/html": [
       "\n",
       "  <div id=\"df-d2aeae58-1bc4-4e8a-a6f4-5b6222610104\">\n",
       "    <div class=\"colab-df-container\">\n",
       "      <div>\n",
       "<style scoped>\n",
       "    .dataframe tbody tr th:only-of-type {\n",
       "        vertical-align: middle;\n",
       "    }\n",
       "\n",
       "    .dataframe tbody tr th {\n",
       "        vertical-align: top;\n",
       "    }\n",
       "\n",
       "    .dataframe thead th {\n",
       "        text-align: right;\n",
       "    }\n",
       "</style>\n",
       "<table border=\"1\" class=\"dataframe\">\n",
       "  <thead>\n",
       "    <tr style=\"text-align: right;\">\n",
       "      <th></th>\n",
       "      <th>地方局</th>\n",
       "      <th>寝屋川</th>\n",
       "      <th>枚方</th>\n",
       "      <th>茨木</th>\n",
       "      <th>西大阪</th>\n",
       "    </tr>\n",
       "  </thead>\n",
       "  <tbody>\n",
       "    <tr>\n",
       "      <th>0</th>\n",
       "      <td>2020年1月1日9時20分</td>\n",
       "      <td>0</td>\n",
       "      <td>0</td>\n",
       "      <td>0</td>\n",
       "      <td>0</td>\n",
       "    </tr>\n",
       "    <tr>\n",
       "      <th>1</th>\n",
       "      <td>2020年1月1日9時30分</td>\n",
       "      <td>0</td>\n",
       "      <td>0</td>\n",
       "      <td>0</td>\n",
       "      <td>0</td>\n",
       "    </tr>\n",
       "    <tr>\n",
       "      <th>2</th>\n",
       "      <td>2020年1月1日9時40分</td>\n",
       "      <td>0</td>\n",
       "      <td>0</td>\n",
       "      <td>0</td>\n",
       "      <td>0</td>\n",
       "    </tr>\n",
       "    <tr>\n",
       "      <th>3</th>\n",
       "      <td>2020年1月1日9時50分</td>\n",
       "      <td>0</td>\n",
       "      <td>0</td>\n",
       "      <td>0</td>\n",
       "      <td>0</td>\n",
       "    </tr>\n",
       "    <tr>\n",
       "      <th>4</th>\n",
       "      <td>2020年1月1日10時0分</td>\n",
       "      <td>0</td>\n",
       "      <td>0</td>\n",
       "      <td>0</td>\n",
       "      <td>0</td>\n",
       "    </tr>\n",
       "    <tr>\n",
       "      <th>...</th>\n",
       "      <td>...</td>\n",
       "      <td>...</td>\n",
       "      <td>...</td>\n",
       "      <td>...</td>\n",
       "      <td>...</td>\n",
       "    </tr>\n",
       "    <tr>\n",
       "      <th>52698</th>\n",
       "      <td>2021年1月1日8時20分</td>\n",
       "      <td>0</td>\n",
       "      <td>0</td>\n",
       "      <td>0</td>\n",
       "      <td>0</td>\n",
       "    </tr>\n",
       "    <tr>\n",
       "      <th>52699</th>\n",
       "      <td>2021年1月1日8時30分</td>\n",
       "      <td>0</td>\n",
       "      <td>0</td>\n",
       "      <td>0</td>\n",
       "      <td>0</td>\n",
       "    </tr>\n",
       "    <tr>\n",
       "      <th>52700</th>\n",
       "      <td>2021年1月1日8時40分</td>\n",
       "      <td>0</td>\n",
       "      <td>0</td>\n",
       "      <td>0</td>\n",
       "      <td>0</td>\n",
       "    </tr>\n",
       "    <tr>\n",
       "      <th>52701</th>\n",
       "      <td>2021年1月1日8時50分</td>\n",
       "      <td>0</td>\n",
       "      <td>0</td>\n",
       "      <td>0</td>\n",
       "      <td>0</td>\n",
       "    </tr>\n",
       "    <tr>\n",
       "      <th>52702</th>\n",
       "      <td>2021年1月1日9時0分</td>\n",
       "      <td>0</td>\n",
       "      <td>0</td>\n",
       "      <td>0</td>\n",
       "      <td>0</td>\n",
       "    </tr>\n",
       "  </tbody>\n",
       "</table>\n",
       "<p>52703 rows × 5 columns</p>\n",
       "</div>\n",
       "      <button class=\"colab-df-convert\" onclick=\"convertToInteractive('df-d2aeae58-1bc4-4e8a-a6f4-5b6222610104')\"\n",
       "              title=\"Convert this dataframe to an interactive table.\"\n",
       "              style=\"display:none;\">\n",
       "        \n",
       "  <svg xmlns=\"http://www.w3.org/2000/svg\" height=\"24px\"viewBox=\"0 0 24 24\"\n",
       "       width=\"24px\">\n",
       "    <path d=\"M0 0h24v24H0V0z\" fill=\"none\"/>\n",
       "    <path d=\"M18.56 5.44l.94 2.06.94-2.06 2.06-.94-2.06-.94-.94-2.06-.94 2.06-2.06.94zm-11 1L8.5 8.5l.94-2.06 2.06-.94-2.06-.94L8.5 2.5l-.94 2.06-2.06.94zm10 10l.94 2.06.94-2.06 2.06-.94-2.06-.94-.94-2.06-.94 2.06-2.06.94z\"/><path d=\"M17.41 7.96l-1.37-1.37c-.4-.4-.92-.59-1.43-.59-.52 0-1.04.2-1.43.59L10.3 9.45l-7.72 7.72c-.78.78-.78 2.05 0 2.83L4 21.41c.39.39.9.59 1.41.59.51 0 1.02-.2 1.41-.59l7.78-7.78 2.81-2.81c.8-.78.8-2.07 0-2.86zM5.41 20L4 18.59l7.72-7.72 1.47 1.35L5.41 20z\"/>\n",
       "  </svg>\n",
       "      </button>\n",
       "      \n",
       "  <style>\n",
       "    .colab-df-container {\n",
       "      display:flex;\n",
       "      flex-wrap:wrap;\n",
       "      gap: 12px;\n",
       "    }\n",
       "\n",
       "    .colab-df-convert {\n",
       "      background-color: #E8F0FE;\n",
       "      border: none;\n",
       "      border-radius: 50%;\n",
       "      cursor: pointer;\n",
       "      display: none;\n",
       "      fill: #1967D2;\n",
       "      height: 32px;\n",
       "      padding: 0 0 0 0;\n",
       "      width: 32px;\n",
       "    }\n",
       "\n",
       "    .colab-df-convert:hover {\n",
       "      background-color: #E2EBFA;\n",
       "      box-shadow: 0px 1px 2px rgba(60, 64, 67, 0.3), 0px 1px 3px 1px rgba(60, 64, 67, 0.15);\n",
       "      fill: #174EA6;\n",
       "    }\n",
       "\n",
       "    [theme=dark] .colab-df-convert {\n",
       "      background-color: #3B4455;\n",
       "      fill: #D2E3FC;\n",
       "    }\n",
       "\n",
       "    [theme=dark] .colab-df-convert:hover {\n",
       "      background-color: #434B5C;\n",
       "      box-shadow: 0px 1px 3px 1px rgba(0, 0, 0, 0.15);\n",
       "      filter: drop-shadow(0px 1px 2px rgba(0, 0, 0, 0.3));\n",
       "      fill: #FFFFFF;\n",
       "    }\n",
       "  </style>\n",
       "\n",
       "      <script>\n",
       "        const buttonEl =\n",
       "          document.querySelector('#df-d2aeae58-1bc4-4e8a-a6f4-5b6222610104 button.colab-df-convert');\n",
       "        buttonEl.style.display =\n",
       "          google.colab.kernel.accessAllowed ? 'block' : 'none';\n",
       "\n",
       "        async function convertToInteractive(key) {\n",
       "          const element = document.querySelector('#df-d2aeae58-1bc4-4e8a-a6f4-5b6222610104');\n",
       "          const dataTable =\n",
       "            await google.colab.kernel.invokeFunction('convertToInteractive',\n",
       "                                                     [key], {});\n",
       "          if (!dataTable) return;\n",
       "\n",
       "          const docLinkHtml = 'Like what you see? Visit the ' +\n",
       "            '<a target=\"_blank\" href=https://colab.research.google.com/notebooks/data_table.ipynb>data table notebook</a>'\n",
       "            + ' to learn more about interactive tables.';\n",
       "          element.innerHTML = '';\n",
       "          dataTable['output_type'] = 'display_data';\n",
       "          await google.colab.output.renderOutput(dataTable, element);\n",
       "          const docLink = document.createElement('div');\n",
       "          docLink.innerHTML = docLinkHtml;\n",
       "          element.appendChild(docLink);\n",
       "        }\n",
       "      </script>\n",
       "    </div>\n",
       "  </div>\n",
       "  "
      ],
      "text/plain": [
       "                  地方局 寝屋川 枚方 茨木 西大阪\n",
       "0      2020年1月1日9時20分   0  0  0   0\n",
       "1      2020年1月1日9時30分   0  0  0   0\n",
       "2      2020年1月1日9時40分   0  0  0   0\n",
       "3      2020年1月1日9時50分   0  0  0   0\n",
       "4      2020年1月1日10時0分   0  0  0   0\n",
       "...               ...  .. .. ..  ..\n",
       "52698  2021年1月1日8時20分   0  0  0   0\n",
       "52699  2021年1月1日8時30分   0  0  0   0\n",
       "52700  2021年1月1日8時40分   0  0  0   0\n",
       "52701  2021年1月1日8時50分   0  0  0   0\n",
       "52702   2021年1月1日9時0分   0  0  0   0\n",
       "\n",
       "[52703 rows x 5 columns]"
      ]
     },
     "metadata": {},
     "output_type": "display_data"
    }
   ],
   "source": [
    "df_rainfall = df_neyagawa.merge(df_hirakata, on=\"地方局\", how=\"outer\")\n",
    "df_rainfall = df_rainfall.merge(df_ibaraki, on=\"地方局\", how=\"outer\")\n",
    "df_rainfall = df_rainfall.merge(df_nishiosaka, on=\"地方局\", how=\"outer\")\n",
    "display(df_rainfall)"
   ]
  },
  {
   "cell_type": "code",
   "execution_count": 11,
   "id": "ahead-might",
   "metadata": {
    "colab": {
     "base_uri": "https://localhost:8080/"
    },
    "id": "BwCV38eLuf8Y",
    "outputId": "568c3e28-77d1-4a3e-951f-7c75aae7edb5"
   },
   "outputs": [
    {
     "name": "stdout",
     "output_type": "stream",
     "text": [
      "<class 'pandas.core.frame.DataFrame'>\n",
      "Int64Index: 52703 entries, 0 to 52702\n",
      "Data columns (total 5 columns):\n",
      " #   Column  Non-Null Count  Dtype \n",
      "---  ------  --------------  ----- \n",
      " 0   地方局     52703 non-null  object\n",
      " 1   寝屋川     52660 non-null  object\n",
      " 2   枚方      52697 non-null  object\n",
      " 3   茨木      52588 non-null  object\n",
      " 4   西大阪     52672 non-null  object\n",
      "dtypes: object(5)\n",
      "memory usage: 2.4+ MB\n",
      "None\n"
     ]
    }
   ],
   "source": [
    "print(df_rainfall.info())"
   ]
  },
  {
   "cell_type": "code",
   "execution_count": 107,
   "id": "sitting-england",
   "metadata": {
    "id": "2xQINynxuv9x"
   },
   "outputs": [],
   "source": [
    "df_rainfall = df_rainfall.fillna(0)"
   ]
  },
  {
   "cell_type": "code",
   "execution_count": 108,
   "id": "upper-purple",
   "metadata": {
    "colab": {
     "base_uri": "https://localhost:8080/"
    },
    "id": "5co1MCzUuICb",
    "outputId": "9a419e64-8062-4df3-d882-cc5aed659961"
   },
   "outputs": [
    {
     "name": "stdout",
     "output_type": "stream",
     "text": [
      "Int64Index([52647], dtype='int64')\n"
     ]
    }
   ],
   "source": [
    "print(df_rainfall[df_rainfall['地方局']==\"2020年12月31日23時50分\"].index)"
   ]
  },
  {
   "cell_type": "code",
   "execution_count": 109,
   "id": "present-rating",
   "metadata": {
    "colab": {
     "base_uri": "https://localhost:8080/",
     "height": 206
    },
    "id": "TEe681obv82G",
    "outputId": "015e29b8-f7e9-461a-c791-be3efc87a8a0"
   },
   "outputs": [
    {
     "data": {
      "text/html": [
       "\n",
       "  <div id=\"df-b0267028-843b-41b5-b228-747df63eaa1c\">\n",
       "    <div class=\"colab-df-container\">\n",
       "      <div>\n",
       "<style scoped>\n",
       "    .dataframe tbody tr th:only-of-type {\n",
       "        vertical-align: middle;\n",
       "    }\n",
       "\n",
       "    .dataframe tbody tr th {\n",
       "        vertical-align: top;\n",
       "    }\n",
       "\n",
       "    .dataframe thead th {\n",
       "        text-align: right;\n",
       "    }\n",
       "</style>\n",
       "<table border=\"1\" class=\"dataframe\">\n",
       "  <thead>\n",
       "    <tr style=\"text-align: right;\">\n",
       "      <th></th>\n",
       "      <th>地方局</th>\n",
       "      <th>寝屋川</th>\n",
       "      <th>枚方</th>\n",
       "      <th>茨木</th>\n",
       "      <th>西大阪</th>\n",
       "    </tr>\n",
       "  </thead>\n",
       "  <tbody>\n",
       "    <tr>\n",
       "      <th>52643</th>\n",
       "      <td>2020年12月31日23時10分</td>\n",
       "      <td>0</td>\n",
       "      <td>0</td>\n",
       "      <td>0</td>\n",
       "      <td>0</td>\n",
       "    </tr>\n",
       "    <tr>\n",
       "      <th>52644</th>\n",
       "      <td>2020年12月31日23時20分</td>\n",
       "      <td>0</td>\n",
       "      <td>0</td>\n",
       "      <td>0</td>\n",
       "      <td>0</td>\n",
       "    </tr>\n",
       "    <tr>\n",
       "      <th>52645</th>\n",
       "      <td>2020年12月31日23時30分</td>\n",
       "      <td>0</td>\n",
       "      <td>0</td>\n",
       "      <td>0</td>\n",
       "      <td>0</td>\n",
       "    </tr>\n",
       "    <tr>\n",
       "      <th>52646</th>\n",
       "      <td>2020年12月31日23時40分</td>\n",
       "      <td>0</td>\n",
       "      <td>0</td>\n",
       "      <td>0</td>\n",
       "      <td>0</td>\n",
       "    </tr>\n",
       "    <tr>\n",
       "      <th>52647</th>\n",
       "      <td>2020年12月31日23時50分</td>\n",
       "      <td>0</td>\n",
       "      <td>0</td>\n",
       "      <td>0</td>\n",
       "      <td>0</td>\n",
       "    </tr>\n",
       "  </tbody>\n",
       "</table>\n",
       "</div>\n",
       "      <button class=\"colab-df-convert\" onclick=\"convertToInteractive('df-b0267028-843b-41b5-b228-747df63eaa1c')\"\n",
       "              title=\"Convert this dataframe to an interactive table.\"\n",
       "              style=\"display:none;\">\n",
       "        \n",
       "  <svg xmlns=\"http://www.w3.org/2000/svg\" height=\"24px\"viewBox=\"0 0 24 24\"\n",
       "       width=\"24px\">\n",
       "    <path d=\"M0 0h24v24H0V0z\" fill=\"none\"/>\n",
       "    <path d=\"M18.56 5.44l.94 2.06.94-2.06 2.06-.94-2.06-.94-.94-2.06-.94 2.06-2.06.94zm-11 1L8.5 8.5l.94-2.06 2.06-.94-2.06-.94L8.5 2.5l-.94 2.06-2.06.94zm10 10l.94 2.06.94-2.06 2.06-.94-2.06-.94-.94-2.06-.94 2.06-2.06.94z\"/><path d=\"M17.41 7.96l-1.37-1.37c-.4-.4-.92-.59-1.43-.59-.52 0-1.04.2-1.43.59L10.3 9.45l-7.72 7.72c-.78.78-.78 2.05 0 2.83L4 21.41c.39.39.9.59 1.41.59.51 0 1.02-.2 1.41-.59l7.78-7.78 2.81-2.81c.8-.78.8-2.07 0-2.86zM5.41 20L4 18.59l7.72-7.72 1.47 1.35L5.41 20z\"/>\n",
       "  </svg>\n",
       "      </button>\n",
       "      \n",
       "  <style>\n",
       "    .colab-df-container {\n",
       "      display:flex;\n",
       "      flex-wrap:wrap;\n",
       "      gap: 12px;\n",
       "    }\n",
       "\n",
       "    .colab-df-convert {\n",
       "      background-color: #E8F0FE;\n",
       "      border: none;\n",
       "      border-radius: 50%;\n",
       "      cursor: pointer;\n",
       "      display: none;\n",
       "      fill: #1967D2;\n",
       "      height: 32px;\n",
       "      padding: 0 0 0 0;\n",
       "      width: 32px;\n",
       "    }\n",
       "\n",
       "    .colab-df-convert:hover {\n",
       "      background-color: #E2EBFA;\n",
       "      box-shadow: 0px 1px 2px rgba(60, 64, 67, 0.3), 0px 1px 3px 1px rgba(60, 64, 67, 0.15);\n",
       "      fill: #174EA6;\n",
       "    }\n",
       "\n",
       "    [theme=dark] .colab-df-convert {\n",
       "      background-color: #3B4455;\n",
       "      fill: #D2E3FC;\n",
       "    }\n",
       "\n",
       "    [theme=dark] .colab-df-convert:hover {\n",
       "      background-color: #434B5C;\n",
       "      box-shadow: 0px 1px 3px 1px rgba(0, 0, 0, 0.15);\n",
       "      filter: drop-shadow(0px 1px 2px rgba(0, 0, 0, 0.3));\n",
       "      fill: #FFFFFF;\n",
       "    }\n",
       "  </style>\n",
       "\n",
       "      <script>\n",
       "        const buttonEl =\n",
       "          document.querySelector('#df-b0267028-843b-41b5-b228-747df63eaa1c button.colab-df-convert');\n",
       "        buttonEl.style.display =\n",
       "          google.colab.kernel.accessAllowed ? 'block' : 'none';\n",
       "\n",
       "        async function convertToInteractive(key) {\n",
       "          const element = document.querySelector('#df-b0267028-843b-41b5-b228-747df63eaa1c');\n",
       "          const dataTable =\n",
       "            await google.colab.kernel.invokeFunction('convertToInteractive',\n",
       "                                                     [key], {});\n",
       "          if (!dataTable) return;\n",
       "\n",
       "          const docLinkHtml = 'Like what you see? Visit the ' +\n",
       "            '<a target=\"_blank\" href=https://colab.research.google.com/notebooks/data_table.ipynb>data table notebook</a>'\n",
       "            + ' to learn more about interactive tables.';\n",
       "          element.innerHTML = '';\n",
       "          dataTable['output_type'] = 'display_data';\n",
       "          await google.colab.output.renderOutput(dataTable, element);\n",
       "          const docLink = document.createElement('div');\n",
       "          docLink.innerHTML = docLinkHtml;\n",
       "          element.appendChild(docLink);\n",
       "        }\n",
       "      </script>\n",
       "    </div>\n",
       "  </div>\n",
       "  "
      ],
      "text/plain": [
       "                     地方局  寝屋川  枚方  茨木  西大阪\n",
       "52643  2020年12月31日23時10分    0   0   0    0\n",
       "52644  2020年12月31日23時20分    0   0   0    0\n",
       "52645  2020年12月31日23時30分    0   0   0    0\n",
       "52646  2020年12月31日23時40分    0   0   0    0\n",
       "52647  2020年12月31日23時50分    0   0   0    0"
      ]
     },
     "metadata": {},
     "output_type": "display_data"
    }
   ],
   "source": [
    "df_rainfall = df_rainfall.iloc[:52648, :]\n",
    "display(df_rainfall.tail())"
   ]
  },
  {
   "cell_type": "code",
   "execution_count": 110,
   "id": "valuable-supervision",
   "metadata": {
    "id": "cardiac-encyclopedia"
   },
   "outputs": [],
   "source": [
    "df_rainfall.to_csv('rainfall.csv')"
   ]
  },
  {
   "cell_type": "markdown",
   "id": "sunset-poker",
   "metadata": {
    "id": "thirty-atlanta"
   },
   "source": [
    "#### River level data:"
   ]
  },
  {
   "cell_type": "code",
   "execution_count": 21,
   "id": "removable-burke",
   "metadata": {
    "colab": {
     "base_uri": "https://localhost:8080/",
     "height": 423
    },
    "id": "nervous-renaissance",
    "outputId": "91b9be5f-f365-4fd4-81c5-5305ce622f10"
   },
   "outputs": [
    {
     "data": {
      "text/html": [
       "\n",
       "  <div id=\"df-efeb2129-044a-43a1-bb5e-0ed22c933219\">\n",
       "    <div class=\"colab-df-container\">\n",
       "      <div>\n",
       "<style scoped>\n",
       "    .dataframe tbody tr th:only-of-type {\n",
       "        vertical-align: middle;\n",
       "    }\n",
       "\n",
       "    .dataframe tbody tr th {\n",
       "        vertical-align: top;\n",
       "    }\n",
       "\n",
       "    .dataframe thead th {\n",
       "        text-align: right;\n",
       "    }\n",
       "</style>\n",
       "<table border=\"1\" class=\"dataframe\">\n",
       "  <thead>\n",
       "    <tr style=\"text-align: right;\">\n",
       "      <th></th>\n",
       "      <th>Time</th>\n",
       "      <th>Level</th>\n",
       "    </tr>\n",
       "  </thead>\n",
       "  <tbody>\n",
       "    <tr>\n",
       "      <th>0</th>\n",
       "      <td>2020年1月1日9時10分</td>\n",
       "      <td>0.40</td>\n",
       "    </tr>\n",
       "    <tr>\n",
       "      <th>1</th>\n",
       "      <td>2020年1月1日9時20分</td>\n",
       "      <td>0.40</td>\n",
       "    </tr>\n",
       "    <tr>\n",
       "      <th>2</th>\n",
       "      <td>2020年1月1日9時30分</td>\n",
       "      <td>0.41</td>\n",
       "    </tr>\n",
       "    <tr>\n",
       "      <th>3</th>\n",
       "      <td>2020年1月1日9時40分</td>\n",
       "      <td>0.40</td>\n",
       "    </tr>\n",
       "    <tr>\n",
       "      <th>4</th>\n",
       "      <td>2020年1月1日9時50分</td>\n",
       "      <td>0.41</td>\n",
       "    </tr>\n",
       "    <tr>\n",
       "      <th>...</th>\n",
       "      <td>...</td>\n",
       "      <td>...</td>\n",
       "    </tr>\n",
       "    <tr>\n",
       "      <th>48180</th>\n",
       "      <td>2020年11月30日23時10分</td>\n",
       "      <td>0.75</td>\n",
       "    </tr>\n",
       "    <tr>\n",
       "      <th>48181</th>\n",
       "      <td>2020年11月30日23時20分</td>\n",
       "      <td>0.78</td>\n",
       "    </tr>\n",
       "    <tr>\n",
       "      <th>48182</th>\n",
       "      <td>2020年11月30日23時30分</td>\n",
       "      <td>0.77</td>\n",
       "    </tr>\n",
       "    <tr>\n",
       "      <th>48183</th>\n",
       "      <td>2020年11月30日23時40分</td>\n",
       "      <td>0.79</td>\n",
       "    </tr>\n",
       "    <tr>\n",
       "      <th>48184</th>\n",
       "      <td>2020年11月30日23時50分</td>\n",
       "      <td>0.76</td>\n",
       "    </tr>\n",
       "  </tbody>\n",
       "</table>\n",
       "<p>48185 rows × 2 columns</p>\n",
       "</div>\n",
       "      <button class=\"colab-df-convert\" onclick=\"convertToInteractive('df-efeb2129-044a-43a1-bb5e-0ed22c933219')\"\n",
       "              title=\"Convert this dataframe to an interactive table.\"\n",
       "              style=\"display:none;\">\n",
       "        \n",
       "  <svg xmlns=\"http://www.w3.org/2000/svg\" height=\"24px\"viewBox=\"0 0 24 24\"\n",
       "       width=\"24px\">\n",
       "    <path d=\"M0 0h24v24H0V0z\" fill=\"none\"/>\n",
       "    <path d=\"M18.56 5.44l.94 2.06.94-2.06 2.06-.94-2.06-.94-.94-2.06-.94 2.06-2.06.94zm-11 1L8.5 8.5l.94-2.06 2.06-.94-2.06-.94L8.5 2.5l-.94 2.06-2.06.94zm10 10l.94 2.06.94-2.06 2.06-.94-2.06-.94-.94-2.06-.94 2.06-2.06.94z\"/><path d=\"M17.41 7.96l-1.37-1.37c-.4-.4-.92-.59-1.43-.59-.52 0-1.04.2-1.43.59L10.3 9.45l-7.72 7.72c-.78.78-.78 2.05 0 2.83L4 21.41c.39.39.9.59 1.41.59.51 0 1.02-.2 1.41-.59l7.78-7.78 2.81-2.81c.8-.78.8-2.07 0-2.86zM5.41 20L4 18.59l7.72-7.72 1.47 1.35L5.41 20z\"/>\n",
       "  </svg>\n",
       "      </button>\n",
       "      \n",
       "  <style>\n",
       "    .colab-df-container {\n",
       "      display:flex;\n",
       "      flex-wrap:wrap;\n",
       "      gap: 12px;\n",
       "    }\n",
       "\n",
       "    .colab-df-convert {\n",
       "      background-color: #E8F0FE;\n",
       "      border: none;\n",
       "      border-radius: 50%;\n",
       "      cursor: pointer;\n",
       "      display: none;\n",
       "      fill: #1967D2;\n",
       "      height: 32px;\n",
       "      padding: 0 0 0 0;\n",
       "      width: 32px;\n",
       "    }\n",
       "\n",
       "    .colab-df-convert:hover {\n",
       "      background-color: #E2EBFA;\n",
       "      box-shadow: 0px 1px 2px rgba(60, 64, 67, 0.3), 0px 1px 3px 1px rgba(60, 64, 67, 0.15);\n",
       "      fill: #174EA6;\n",
       "    }\n",
       "\n",
       "    [theme=dark] .colab-df-convert {\n",
       "      background-color: #3B4455;\n",
       "      fill: #D2E3FC;\n",
       "    }\n",
       "\n",
       "    [theme=dark] .colab-df-convert:hover {\n",
       "      background-color: #434B5C;\n",
       "      box-shadow: 0px 1px 3px 1px rgba(0, 0, 0, 0.15);\n",
       "      filter: drop-shadow(0px 1px 2px rgba(0, 0, 0, 0.3));\n",
       "      fill: #FFFFFF;\n",
       "    }\n",
       "  </style>\n",
       "\n",
       "      <script>\n",
       "        const buttonEl =\n",
       "          document.querySelector('#df-efeb2129-044a-43a1-bb5e-0ed22c933219 button.colab-df-convert');\n",
       "        buttonEl.style.display =\n",
       "          google.colab.kernel.accessAllowed ? 'block' : 'none';\n",
       "\n",
       "        async function convertToInteractive(key) {\n",
       "          const element = document.querySelector('#df-efeb2129-044a-43a1-bb5e-0ed22c933219');\n",
       "          const dataTable =\n",
       "            await google.colab.kernel.invokeFunction('convertToInteractive',\n",
       "                                                     [key], {});\n",
       "          if (!dataTable) return;\n",
       "\n",
       "          const docLinkHtml = 'Like what you see? Visit the ' +\n",
       "            '<a target=\"_blank\" href=https://colab.research.google.com/notebooks/data_table.ipynb>data table notebook</a>'\n",
       "            + ' to learn more about interactive tables.';\n",
       "          element.innerHTML = '';\n",
       "          dataTable['output_type'] = 'display_data';\n",
       "          await google.colab.output.renderOutput(dataTable, element);\n",
       "          const docLink = document.createElement('div');\n",
       "          docLink.innerHTML = docLinkHtml;\n",
       "          element.appendChild(docLink);\n",
       "        }\n",
       "      </script>\n",
       "    </div>\n",
       "  </div>\n",
       "  "
      ],
      "text/plain": [
       "                    Time  Level\n",
       "0         2020年1月1日9時10分   0.40\n",
       "1         2020年1月1日9時20分   0.40\n",
       "2         2020年1月1日9時30分   0.41\n",
       "3         2020年1月1日9時40分   0.40\n",
       "4         2020年1月1日9時50分   0.41\n",
       "...                  ...    ...\n",
       "48180  2020年11月30日23時10分   0.75\n",
       "48181  2020年11月30日23時20分   0.78\n",
       "48182  2020年11月30日23時30分   0.77\n",
       "48183  2020年11月30日23時40分   0.79\n",
       "48184  2020年11月30日23時50分   0.76\n",
       "\n",
       "[48185 rows x 2 columns]"
      ]
     },
     "metadata": {},
     "output_type": "display_data"
    }
   ],
   "source": [
    "df_river = pd.read_csv('Itoda_2020.txt', header=None, delimiter='\\t')\n",
    "df_river.columns = ['Time', 'Level']\n",
    "display(df_river)"
   ]
  },
  {
   "cell_type": "code",
   "execution_count": 117,
   "id": "conservative-dodge",
   "metadata": {
    "colab": {
     "base_uri": "https://localhost:8080/"
    },
    "id": "welsh-brick",
    "outputId": "d8128657-747a-434f-8424-7df6eebec233"
   },
   "outputs": [
    {
     "name": "stdout",
     "output_type": "stream",
     "text": [
      "<class 'pandas.core.frame.DataFrame'>\n",
      "RangeIndex: 48185 entries, 0 to 48184\n",
      "Data columns (total 2 columns):\n",
      " #   Column  Non-Null Count  Dtype  \n",
      "---  ------  --------------  -----  \n",
      " 0   Time    48185 non-null  object \n",
      " 1   Level   48185 non-null  float64\n",
      "dtypes: float64(1), object(1)\n",
      "memory usage: 753.0+ KB\n",
      "None\n"
     ]
    }
   ],
   "source": [
    "print(df_river.info())"
   ]
  },
  {
   "cell_type": "markdown",
   "id": "minute-edinburgh",
   "metadata": {
    "id": "reliable-insured"
   },
   "source": [
    "##### Deal with null river level data:"
   ]
  },
  {
   "cell_type": "code",
   "execution_count": 23,
   "id": "usual-internet",
   "metadata": {
    "colab": {
     "base_uri": "https://localhost:8080/"
    },
    "id": "strategic-ivory",
    "outputId": "c6df6400-bb4f-4a77-e87c-3bd088977474"
   },
   "outputs": [
    {
     "name": "stdout",
     "output_type": "stream",
     "text": [
      "<class 'pandas.core.frame.DataFrame'>\n",
      "RangeIndex: 48185 entries, 0 to 48184\n",
      "Data columns (total 2 columns):\n",
      " #   Column  Non-Null Count  Dtype  \n",
      "---  ------  --------------  -----  \n",
      " 0   Time    48185 non-null  object \n",
      " 1   Level   48185 non-null  float64\n",
      "dtypes: float64(1), object(1)\n",
      "memory usage: 753.0+ KB\n",
      "None\n"
     ]
    }
   ],
   "source": [
    "null_indexes = df_river[df_river['Level'].isnull()].index.tolist()\n",
    "for i in null_indexes:\n",
    "    df_river.iloc[i, 1] = df_river.iloc[i-1, 1]  # Change null values to river level of 10 minutes ago\n",
    "    \n",
    "print(df_river.info())"
   ]
  },
  {
   "cell_type": "markdown",
   "id": "acknowledged-sentence",
   "metadata": {
    "id": "capable-buffer"
   },
   "source": [
    "##### Plot water level data:"
   ]
  },
  {
   "cell_type": "code",
   "execution_count": 24,
   "id": "hawaiian-clock",
   "metadata": {
    "colab": {
     "base_uri": "https://localhost:8080/",
     "height": 278
    },
    "id": "postal-illinois",
    "outputId": "9e3464f6-52c6-4839-b0a9-8227bc2ac2ce"
   },
   "outputs": [
    {
     "data": {
      "image/png": "[encoded data removed]",
      "text/plain": [
       "<Figure size 432x288 with 1 Axes>"
      ]
     },
     "metadata": {
      "needs_background": "light"
     },
     "output_type": "display_data"
    }
   ],
   "source": [
    "plt.plot(df_river.index, df_river['Level'])\n",
    "plt.xlabel('10*minutes from 2020/1/1 - 9h10m')\n",
    "plt.ylabel('River level')\n",
    "plt.show()"
   ]
  },
  {
   "cell_type": "markdown",
   "id": "controlling-master",
   "metadata": {
    "id": "charitable-creek"
   },
   "source": [
    "### Analysis:"
   ]
  },
  {
   "cell_type": "markdown",
   "id": "official-sydney",
   "metadata": {
    "id": "blind-christopher"
   },
   "source": [
    "#### Using only water level data:"
   ]
  },
  {
   "cell_type": "code",
   "execution_count": 25,
   "id": "facial-naples",
   "metadata": {
    "id": "rotary-carter"
   },
   "outputs": [],
   "source": [
    "w = 6*24   # Prediction based on data of 1 previous day (6 samples per hour x 24 hours)\n",
    "n_valid = 6*24      # Validation data: 2020年11月30日"
   ]
  },
  {
   "cell_type": "code",
   "execution_count": 26,
   "id": "turkish-cabin",
   "metadata": {
    "colab": {
     "base_uri": "https://localhost:8080/"
    },
    "id": "direct-george",
    "outputId": "a95187fa-5e39-42aa-d602-c819cda03eaf"
   },
   "outputs": [
    {
     "name": "stdout",
     "output_type": "stream",
     "text": [
      "[[0.4  0.4  0.41 0.4  0.41 0.4  0.41 0.4  0.4  0.39 0.39 0.39 0.39 0.4\n",
      "  0.4  0.4  0.41 0.41 0.41 0.41 0.4  0.41 0.41 0.41 0.41 0.41 0.41 0.41\n",
      "  0.41 0.41 0.41 0.41 0.41 0.41 0.41 0.41 0.42 0.42 0.42 0.42 0.42 0.42\n",
      "  0.42 0.41 0.42 0.42 0.42 0.43 0.43 0.42 0.43 0.43 0.43 0.45 0.44 0.45\n",
      "  0.45 0.44 0.44 0.44 0.44 0.45 0.45 0.45 0.45 0.45 0.44 0.44 0.44 0.44\n",
      "  0.44 0.45 0.45 0.45 0.44 0.45 0.44 0.44 0.44 0.44 0.44 0.44 0.44 0.45\n",
      "  0.44 0.44 0.44 0.45 0.44 0.44 0.44 0.44 0.44 0.44 0.44 0.44 0.44 0.45\n",
      "  0.44 0.45 0.44 0.44 0.44 0.44 0.44 0.45 0.44 0.45 0.45 0.45 0.45 0.45\n",
      "  0.45 0.45 0.45 0.45 0.45 0.45 0.46 0.45 0.45 0.45 0.46 0.45 0.45 0.45\n",
      "  0.45 0.45 0.45 0.45 0.45 0.45 0.45 0.45 0.45 0.45 0.45 0.45 0.45 0.45\n",
      "  0.45 0.44 0.44 0.44]\n",
      " [0.4  0.41 0.4  0.41 0.4  0.41 0.4  0.4  0.39 0.39 0.39 0.39 0.4  0.4\n",
      "  0.4  0.41 0.41 0.41 0.41 0.4  0.41 0.41 0.41 0.41 0.41 0.41 0.41 0.41\n",
      "  0.41 0.41 0.41 0.41 0.41 0.41 0.41 0.42 0.42 0.42 0.42 0.42 0.42 0.42\n",
      "  0.41 0.42 0.42 0.42 0.43 0.43 0.42 0.43 0.43 0.43 0.45 0.44 0.45 0.45\n",
      "  0.44 0.44 0.44 0.44 0.45 0.45 0.45 0.45 0.45 0.44 0.44 0.44 0.44 0.44\n",
      "  0.45 0.45 0.45 0.44 0.45 0.44 0.44 0.44 0.44 0.44 0.44 0.44 0.45 0.44\n",
      "  0.44 0.44 0.45 0.44 0.44 0.44 0.44 0.44 0.44 0.44 0.44 0.44 0.45 0.44\n",
      "  0.45 0.44 0.44 0.44 0.44 0.44 0.45 0.44 0.45 0.45 0.45 0.45 0.45 0.45\n",
      "  0.45 0.45 0.45 0.45 0.45 0.46 0.45 0.45 0.45 0.46 0.45 0.45 0.45 0.45\n",
      "  0.45 0.45 0.45 0.45 0.45 0.45 0.45 0.45 0.45 0.45 0.45 0.45 0.45 0.45\n",
      "  0.44 0.44 0.44 0.43]\n",
      " [0.41 0.4  0.41 0.4  0.41 0.4  0.4  0.39 0.39 0.39 0.39 0.4  0.4  0.4\n",
      "  0.41 0.41 0.41 0.41 0.4  0.41 0.41 0.41 0.41 0.41 0.41 0.41 0.41 0.41\n",
      "  0.41 0.41 0.41 0.41 0.41 0.41 0.42 0.42 0.42 0.42 0.42 0.42 0.42 0.41\n",
      "  0.42 0.42 0.42 0.43 0.43 0.42 0.43 0.43 0.43 0.45 0.44 0.45 0.45 0.44\n",
      "  0.44 0.44 0.44 0.45 0.45 0.45 0.45 0.45 0.44 0.44 0.44 0.44 0.44 0.45\n",
      "  0.45 0.45 0.44 0.45 0.44 0.44 0.44 0.44 0.44 0.44 0.44 0.45 0.44 0.44\n",
      "  0.44 0.45 0.44 0.44 0.44 0.44 0.44 0.44 0.44 0.44 0.44 0.45 0.44 0.45\n",
      "  0.44 0.44 0.44 0.44 0.44 0.45 0.44 0.45 0.45 0.45 0.45 0.45 0.45 0.45\n",
      "  0.45 0.45 0.45 0.45 0.46 0.45 0.45 0.45 0.46 0.45 0.45 0.45 0.45 0.45\n",
      "  0.45 0.45 0.45 0.45 0.45 0.45 0.45 0.45 0.45 0.45 0.45 0.45 0.45 0.44\n",
      "  0.44 0.44 0.43 0.43]]\n",
      "[0.43 0.43 0.42]\n"
     ]
    }
   ],
   "source": [
    "x = []\n",
    "y = []\n",
    "levels = df_river['Level']\n",
    "\n",
    "n_total = levels.shape[0]\n",
    "for i in range(0, n_total-w-n_valid):\n",
    "    x.append(levels[i:i+w])\n",
    "    y.append(levels[i+w])\n",
    "x = np.array(x)\n",
    "y = np.array(y)\n",
    "print(x[:3])  # debug\n",
    "print(y[:3])  # debug"
   ]
  },
  {
   "cell_type": "code",
   "execution_count": 28,
   "id": "apart-techno",
   "metadata": {
    "colab": {
     "base_uri": "https://localhost:8080/"
    },
    "id": "excessive-horizon",
    "outputId": "95985828-636a-42be-8039-305536c1352e"
   },
   "outputs": [
    {
     "name": "stdout",
     "output_type": "stream",
     "text": [
      "(47897, 144, 1)\n",
      "(47897, 1)\n"
     ]
    }
   ],
   "source": [
    "x = x.reshape(-1, w, 1)\n",
    "y = y.reshape(-1, 1)\n",
    "print(x.shape)\n",
    "print(y.shape)"
   ]
  },
  {
   "cell_type": "code",
   "execution_count": 29,
   "id": "decimal-stroke",
   "metadata": {
    "colab": {
     "base_uri": "https://localhost:8080/"
    },
    "id": "french-lodge",
    "outputId": "b4562551-4017-496a-bab4-f8ddc8d67d66"
   },
   "outputs": [
    {
     "name": "stdout",
     "output_type": "stream",
     "text": [
      "Model: \"sequential\"\n",
      "_________________________________________________________________\n",
      " Layer (type)                Output Shape              Param #   \n",
      "=================================================================\n",
      " lstm (LSTM)                 (None, 100)               40800     \n",
      "                                                                 \n",
      " dense (Dense)               (None, 1)                 101       \n",
      "                                                                 \n",
      "=================================================================\n",
      "Total params: 40,901\n",
      "Trainable params: 40,901\n",
      "Non-trainable params: 0\n",
      "_________________________________________________________________\n"
     ]
    }
   ],
   "source": [
    "n_out = 1\n",
    "n_hidden = 100\n",
    "\n",
    "# early stopping and model checkpoint\n",
    "es_cb = EarlyStopping(monitor='val_loss',\n",
    "                      patience=30, verbose=1, mode='auto')\n",
    "\n",
    "model = Sequential()\n",
    "model.add(LSTM(n_hidden, input_shape=(w, 1), return_sequences=False))\n",
    "model.add(Dense(n_out, activation='linear'))\n",
    "\n",
    "model.summary()"
   ]
  },
  {
   "cell_type": "code",
   "execution_count": 30,
   "id": "regulated-checklist",
   "metadata": {
    "id": "powered-medicare"
   },
   "outputs": [],
   "source": [
    "model.compile(loss=\"mean_squared_error\", optimizer='adam')"
   ]
  },
  {
   "cell_type": "code",
   "execution_count": 31,
   "id": "individual-victim",
   "metadata": {
    "colab": {
     "base_uri": "https://localhost:8080/"
    },
    "id": "coordinate-wheel",
    "outputId": "53be5fae-c84e-4720-ae1a-4b34da8ce54d"
   },
   "outputs": [
    {
     "name": "stdout",
     "output_type": "stream",
     "text": [
      "Epoch 1/100\n",
      "96/96 [==============================] - 86s 874ms/step - loss: 0.0241 - val_loss: 0.0044\n",
      "Epoch 2/100\n",
      "96/96 [==============================] - 72s 752ms/step - loss: 0.0023 - val_loss: 0.0043\n",
      "Epoch 3/100\n",
      "96/96 [==============================] - 70s 727ms/step - loss: 0.0022 - val_loss: 0.0043\n",
      "Epoch 4/100\n",
      "96/96 [==============================] - 70s 727ms/step - loss: 0.0022 - val_loss: 0.0042\n",
      "Epoch 5/100\n",
      "96/96 [==============================] - 70s 725ms/step - loss: 0.0022 - val_loss: 0.0040\n",
      "Epoch 6/100\n",
      "96/96 [==============================] - 72s 753ms/step - loss: 0.0022 - val_loss: 0.0039\n",
      "Epoch 7/100\n",
      "96/96 [==============================] - 74s 774ms/step - loss: 0.0021 - val_loss: 0.0038\n",
      "Epoch 8/100\n",
      "96/96 [==============================] - 75s 778ms/step - loss: 0.0021 - val_loss: 0.0038\n",
      "Epoch 9/100\n",
      "96/96 [==============================] - 72s 755ms/step - loss: 0.0020 - val_loss: 0.0036\n",
      "Epoch 10/100\n",
      "96/96 [==============================] - 71s 738ms/step - loss: 0.0020 - val_loss: 0.0035\n",
      "Epoch 11/100\n",
      "96/96 [==============================] - 71s 734ms/step - loss: 0.0020 - val_loss: 0.0033\n",
      "Epoch 12/100\n",
      "96/96 [==============================] - 70s 734ms/step - loss: 0.0019 - val_loss: 0.0032\n",
      "Epoch 13/100\n",
      "96/96 [==============================] - 71s 738ms/step - loss: 0.0019 - val_loss: 0.0031\n",
      "Epoch 14/100\n",
      "96/96 [==============================] - 71s 740ms/step - loss: 0.0018 - val_loss: 0.0029\n",
      "Epoch 15/100\n",
      "96/96 [==============================] - 72s 751ms/step - loss: 0.0018 - val_loss: 0.0027\n",
      "Epoch 16/100\n",
      "96/96 [==============================] - 71s 744ms/step - loss: 0.0017 - val_loss: 0.0027\n",
      "Epoch 17/100\n",
      "96/96 [==============================] - 72s 751ms/step - loss: 0.0017 - val_loss: 0.0025\n",
      "Epoch 18/100\n",
      "96/96 [==============================] - 75s 783ms/step - loss: 0.0017 - val_loss: 0.0025\n",
      "Epoch 19/100\n",
      "96/96 [==============================] - 75s 785ms/step - loss: 0.0017 - val_loss: 0.0025\n",
      "Epoch 20/100\n",
      "96/96 [==============================] - 74s 767ms/step - loss: 0.0016 - val_loss: 0.0023\n",
      "Epoch 21/100\n",
      "96/96 [==============================] - 71s 745ms/step - loss: 0.0016 - val_loss: 0.0022\n",
      "Epoch 22/100\n",
      "96/96 [==============================] - 72s 747ms/step - loss: 0.0015 - val_loss: 0.0021\n",
      "Epoch 23/100\n",
      "96/96 [==============================] - 73s 758ms/step - loss: 0.0015 - val_loss: 0.0020\n",
      "Epoch 24/100\n",
      "96/96 [==============================] - 69s 718ms/step - loss: 0.0015 - val_loss: 0.0020\n",
      "Epoch 25/100\n",
      "96/96 [==============================] - 71s 736ms/step - loss: 0.0015 - val_loss: 0.0021\n",
      "Epoch 26/100\n",
      "96/96 [==============================] - 72s 749ms/step - loss: 0.0015 - val_loss: 0.0020\n",
      "Epoch 27/100\n",
      "96/96 [==============================] - 71s 738ms/step - loss: 0.0015 - val_loss: 0.0020\n",
      "Epoch 28/100\n",
      "96/96 [==============================] - 70s 735ms/step - loss: 0.0014 - val_loss: 0.0019\n",
      "Epoch 29/100\n",
      "96/96 [==============================] - 71s 740ms/step - loss: 0.0014 - val_loss: 0.0019\n",
      "Epoch 30/100\n",
      "96/96 [==============================] - 70s 729ms/step - loss: 0.0014 - val_loss: 0.0019\n",
      "Epoch 31/100\n",
      "96/96 [==============================] - 70s 733ms/step - loss: 0.0014 - val_loss: 0.0018\n",
      "Epoch 32/100\n",
      "96/96 [==============================] - 70s 729ms/step - loss: 0.0014 - val_loss: 0.0020\n",
      "Epoch 33/100\n",
      "96/96 [==============================] - 69s 722ms/step - loss: 0.0014 - val_loss: 0.0018\n",
      "Epoch 34/100\n",
      "96/96 [==============================] - 70s 727ms/step - loss: 0.0014 - val_loss: 0.0018\n",
      "Epoch 35/100\n",
      "96/96 [==============================] - 70s 732ms/step - loss: 0.0014 - val_loss: 0.0018\n",
      "Epoch 36/100\n",
      "96/96 [==============================] - 70s 732ms/step - loss: 0.0014 - val_loss: 0.0018\n",
      "Epoch 37/100\n",
      "96/96 [==============================] - 68s 711ms/step - loss: 0.0014 - val_loss: 0.0018\n",
      "Epoch 38/100\n",
      "96/96 [==============================] - 73s 759ms/step - loss: 0.0014 - val_loss: 0.0018\n",
      "Epoch 39/100\n",
      "96/96 [==============================] - 69s 724ms/step - loss: 0.0014 - val_loss: 0.0018\n",
      "Epoch 40/100\n",
      "96/96 [==============================] - 69s 723ms/step - loss: 0.0014 - val_loss: 0.0018\n",
      "Epoch 41/100\n",
      "96/96 [==============================] - 70s 732ms/step - loss: 0.0014 - val_loss: 0.0018\n",
      "Epoch 42/100\n",
      "96/96 [==============================] - 71s 737ms/step - loss: 0.0014 - val_loss: 0.0019\n",
      "Epoch 43/100\n",
      "96/96 [==============================] - 70s 729ms/step - loss: 0.0014 - val_loss: 0.0018\n",
      "Epoch 44/100\n",
      "96/96 [==============================] - 70s 731ms/step - loss: 0.0014 - val_loss: 0.0017\n",
      "Epoch 45/100\n",
      "96/96 [==============================] - 70s 728ms/step - loss: 0.0014 - val_loss: 0.0018\n",
      "Epoch 46/100\n",
      "96/96 [==============================] - 70s 727ms/step - loss: 0.0014 - val_loss: 0.0018\n",
      "Epoch 47/100\n",
      "96/96 [==============================] - 69s 715ms/step - loss: 0.0014 - val_loss: 0.0017\n",
      "Epoch 48/100\n",
      "96/96 [==============================] - 70s 726ms/step - loss: 0.0014 - val_loss: 0.0018\n",
      "Epoch 49/100\n",
      "96/96 [==============================] - 68s 708ms/step - loss: 0.0014 - val_loss: 0.0018\n",
      "Epoch 50/100\n",
      "96/96 [==============================] - 67s 697ms/step - loss: 0.0014 - val_loss: 0.0017\n",
      "Epoch 51/100\n",
      "96/96 [==============================] - 69s 720ms/step - loss: 0.0014 - val_loss: 0.0017\n",
      "Epoch 52/100\n",
      "96/96 [==============================] - 68s 704ms/step - loss: 0.0014 - val_loss: 0.0017\n",
      "Epoch 53/100\n",
      "96/96 [==============================] - 67s 693ms/step - loss: 0.0014 - val_loss: 0.0018\n",
      "Epoch 54/100\n",
      "96/96 [==============================] - 69s 716ms/step - loss: 0.0014 - val_loss: 0.0017\n",
      "Epoch 55/100\n",
      "96/96 [==============================] - 67s 701ms/step - loss: 0.0014 - val_loss: 0.0017\n",
      "Epoch 56/100\n",
      "96/96 [==============================] - 69s 718ms/step - loss: 0.0014 - val_loss: 0.0018\n",
      "Epoch 57/100\n",
      "96/96 [==============================] - 70s 733ms/step - loss: 0.0014 - val_loss: 0.0018\n",
      "Epoch 58/100\n",
      "96/96 [==============================] - 71s 742ms/step - loss: 0.0014 - val_loss: 0.0017\n",
      "Epoch 59/100\n",
      "96/96 [==============================] - 71s 742ms/step - loss: 0.0014 - val_loss: 0.0018\n",
      "Epoch 60/100\n",
      "96/96 [==============================] - 71s 736ms/step - loss: 0.0014 - val_loss: 0.0017\n",
      "Epoch 61/100\n",
      "96/96 [==============================] - 70s 724ms/step - loss: 0.0014 - val_loss: 0.0017\n",
      "Epoch 62/100\n",
      "96/96 [==============================] - 70s 734ms/step - loss: 0.0014 - val_loss: 0.0017\n",
      "Epoch 63/100\n",
      "96/96 [==============================] - 70s 732ms/step - loss: 0.0014 - val_loss: 0.0017\n",
      "Epoch 64/100\n",
      "96/96 [==============================] - 70s 727ms/step - loss: 0.0014 - val_loss: 0.0019\n",
      "Epoch 65/100\n",
      "96/96 [==============================] - 70s 728ms/step - loss: 0.0014 - val_loss: 0.0017\n",
      "Epoch 66/100\n",
      "96/96 [==============================] - 70s 732ms/step - loss: 0.0014 - val_loss: 0.0020\n",
      "Epoch 67/100\n",
      "96/96 [==============================] - 69s 722ms/step - loss: 0.0014 - val_loss: 0.0017\n",
      "Epoch 68/100\n",
      "96/96 [==============================] - 69s 724ms/step - loss: 0.0014 - val_loss: 0.0017\n",
      "Epoch 69/100\n",
      "96/96 [==============================] - 70s 725ms/step - loss: 0.0014 - val_loss: 0.0017\n",
      "Epoch 70/100\n",
      "96/96 [==============================] - 70s 732ms/step - loss: 0.0014 - val_loss: 0.0019\n",
      "Epoch 71/100\n",
      "96/96 [==============================] - 70s 726ms/step - loss: 0.0014 - val_loss: 0.0017\n",
      "Epoch 72/100\n",
      "96/96 [==============================] - 70s 725ms/step - loss: 0.0014 - val_loss: 0.0018\n",
      "Epoch 73/100\n",
      "96/96 [==============================] - 70s 733ms/step - loss: 0.0014 - val_loss: 0.0018\n",
      "Epoch 74/100\n",
      "96/96 [==============================] - 71s 741ms/step - loss: 0.0014 - val_loss: 0.0018\n",
      "Epoch 75/100\n",
      "96/96 [==============================] - 71s 744ms/step - loss: 0.0014 - val_loss: 0.0017\n",
      "Epoch 76/100\n",
      "96/96 [==============================] - 73s 757ms/step - loss: 0.0014 - val_loss: 0.0017\n",
      "Epoch 77/100\n",
      "96/96 [==============================] - 73s 758ms/step - loss: 0.0014 - val_loss: 0.0018\n",
      "Epoch 78/100\n",
      "96/96 [==============================] - 72s 755ms/step - loss: 0.0014 - val_loss: 0.0017\n",
      "Epoch 79/100\n",
      "96/96 [==============================] - 73s 759ms/step - loss: 0.0014 - val_loss: 0.0017\n",
      "Epoch 80/100\n",
      "96/96 [==============================] - 72s 750ms/step - loss: 0.0014 - val_loss: 0.0017\n",
      "Epoch 81/100\n",
      "96/96 [==============================] - 70s 729ms/step - loss: 0.0014 - val_loss: 0.0017\n",
      "Epoch 82/100\n",
      "96/96 [==============================] - 66s 693ms/step - loss: 0.0014 - val_loss: 0.0017\n",
      "Epoch 83/100\n",
      "96/96 [==============================] - 70s 727ms/step - loss: 0.0014 - val_loss: 0.0017\n",
      "Epoch 84/100\n",
      "96/96 [==============================] - 71s 741ms/step - loss: 0.0014 - val_loss: 0.0017\n",
      "Epoch 85/100\n",
      "96/96 [==============================] - 70s 729ms/step - loss: 0.0014 - val_loss: 0.0017\n",
      "Epoch 86/100\n",
      "96/96 [==============================] - 70s 725ms/step - loss: 0.0014 - val_loss: 0.0017\n",
      "Epoch 87/100\n",
      "96/96 [==============================] - 71s 744ms/step - loss: 0.0014 - val_loss: 0.0017\n",
      "Epoch 88/100\n",
      "96/96 [==============================] - 72s 753ms/step - loss: 0.0014 - val_loss: 0.0017\n",
      "Epoch 89/100\n",
      "96/96 [==============================] - 72s 747ms/step - loss: 0.0014 - val_loss: 0.0018\n",
      "Epoch 90/100\n",
      "96/96 [==============================] - 71s 738ms/step - loss: 0.0014 - val_loss: 0.0017\n",
      "Epoch 91/100\n",
      "96/96 [==============================] - 66s 687ms/step - loss: 0.0014 - val_loss: 0.0017\n",
      "Epoch 92/100\n",
      "96/96 [==============================] - 64s 664ms/step - loss: 0.0014 - val_loss: 0.0020\n",
      "Epoch 93/100\n",
      "96/96 [==============================] - 66s 684ms/step - loss: 0.0014 - val_loss: 0.0017\n",
      "Epoch 94/100\n",
      "96/96 [==============================] - 65s 680ms/step - loss: 0.0013 - val_loss: 0.0017\n",
      "Epoch 95/100\n",
      "96/96 [==============================] - 64s 667ms/step - loss: 0.0014 - val_loss: 0.0017\n",
      "Epoch 96/100\n",
      "96/96 [==============================] - 63s 658ms/step - loss: 0.0014 - val_loss: 0.0017\n",
      "Epoch 97/100\n",
      "96/96 [==============================] - 64s 663ms/step - loss: 0.0014 - val_loss: 0.0017\n",
      "Epoch 98/100\n",
      "96/96 [==============================] - 64s 668ms/step - loss: 0.0014 - val_loss: 0.0017\n",
      "Epoch 99/100\n",
      "96/96 [==============================] - 63s 658ms/step - loss: 0.0014 - val_loss: 0.0018\n",
      "Epoch 100/100\n",
      "96/96 [==============================] - 63s 661ms/step - loss: 0.0014 - val_loss: 0.0018\n"
     ]
    }
   ],
   "source": [
    "n_epochs = 100\n",
    "val_split = 0.2\n",
    "batch_size = 400\n",
    "\n",
    "fit_log = model.fit(x, y, batch_size=batch_size, epochs=n_epochs,\n",
    "                    validation_split=val_split, callbacks=[es_cb])"
   ]
  },
  {
   "cell_type": "code",
   "execution_count": 32,
   "id": "hazardous-intake",
   "metadata": {
    "id": "applied-diversity"
   },
   "outputs": [],
   "source": [
    "model.save('lstm_river_only_100epochs.h5')"
   ]
  },
  {
   "cell_type": "markdown",
   "id": "exempt-burton",
   "metadata": {
    "id": "binary-prevention"
   },
   "source": [
    "##### Prediction:"
   ]
  },
  {
   "cell_type": "code",
   "execution_count": 33,
   "id": "armed-rebound",
   "metadata": {
    "colab": {
     "base_uri": "https://localhost:8080/"
    },
    "id": "following-sample",
    "outputId": "611859b8-c496-4958-d3c1-f87783bc9ebf"
   },
   "outputs": [
    {
     "name": "stdout",
     "output_type": "stream",
     "text": [
      "(47897, 1)\n"
     ]
    }
   ],
   "source": [
    "# Against training data\n",
    "pred = model.predict(x)\n",
    "print(pred.shape)  # debug\n",
    "\n",
    "train_real_output = levels[:n_total-n_valid-w]\n",
    "print(np.shape(train_real_output))\n",
    "print(mean_squared_error(pred, train_real_output))"
   ]
  },
  {
   "cell_type": "code",
   "execution_count": 41,
   "id": "economic-banner",
   "metadata": {
    "colab": {
     "base_uri": "https://localhost:8080/"
    },
    "id": "a6NP77j4OwvI",
    "outputId": "08b0a45a-02a5-490f-e9cc-7869e1e7af79"
   },
   "outputs": [
    {
     "name": "stdout",
     "output_type": "stream",
     "text": [
      "0.013098564188466461\n"
     ]
    }
   ],
   "source": [
    "print(mean_squared_error(pred, train_real_output))"
   ]
  },
  {
   "cell_type": "code",
   "execution_count": null,
   "id": "hispanic-marine",
   "metadata": {
    "id": "revolutionary-jerusalem"
   },
   "outputs": [],
   "source": [
    "# Future prediction\n",
    "future_test = levels[n_total-w-n_valid:n_total-n_valid]\n",
    "future_test = future_test.values.reshape(future_test.shape[0],1)\n",
    "print(future_test.shape)\n",
    "print(future_test[:5])  # debug\n",
    "future_result = []"
   ]
  },
  {
   "cell_type": "code",
   "execution_count": 36,
   "id": "defined-income",
   "metadata": {
    "id": "extraordinary-rover"
   },
   "outputs": [],
   "source": [
    "for i in range(n_valid):\n",
    "    test_data = np.reshape(future_test, (1, w, 1))\n",
    "    #print(test_data.shape)  # debug\n",
    "    pred1 = model.predict(test_data)\n",
    "    future_test = np.delete(future_test, 0)\n",
    "    future_test = np.append(future_test, pred1)\n",
    "    future_result = np.append(future_result, pred1)"
   ]
  },
  {
   "cell_type": "code",
   "execution_count": 37,
   "id": "incoming-amsterdam",
   "metadata": {
    "colab": {
     "base_uri": "https://localhost:8080/"
    },
    "id": "motivated-cycling",
    "outputId": "01e65623-99b7-4242-f402-7166686f1356"
   },
   "outputs": [
    {
     "name": "stdout",
     "output_type": "stream",
     "text": [
      "(144,)\n",
      "(144,)\n"
     ]
    }
   ],
   "source": [
    "valid_real_results = levels[n_total-n_valid:]\n",
    "print(valid_real_results.shape)\n",
    "print(future_result.shape)"
   ]
  },
  {
   "cell_type": "markdown",
   "id": "significant-occasion",
   "metadata": {
    "id": "choice-salvation"
   },
   "source": [
    "##### Plot results:"
   ]
  },
  {
   "cell_type": "code",
   "execution_count": 42,
   "id": "talented-effort",
   "metadata": {
    "colab": {
     "base_uri": "https://localhost:8080/",
     "height": 294
    },
    "id": "authorized-zealand",
    "outputId": "519bc9af-d641-4c34-e258-77981173df72"
   },
   "outputs": [
    {
     "data": {
      "image/png": "[encoded data removed]",
      "text/plain": [
       "<Figure size 432x288 with 1 Axes>"
      ]
     },
     "metadata": {
      "needs_background": "light"
     },
     "output_type": "display_data"
    }
   ],
   "source": [
    "print(mean_squared_error(future_result, valid_real_results))\n",
    "plt.plot(np.array(range(future_result.shape[0])), future_result, label=\"Prediction\")\n",
    "plt.plot(np.array(range(future_result.shape[0])), valid_real_results, label=\"Real\")\n",
    "plt.title(\"Validation data\")\n",
    "plt.xlabel(\"10*minutes from 1/12/2020 0:00\")\n",
    "plt.ylabel(\"Water level\")\n",
    "plt.show()"
   ]
  },
  {
   "cell_type": "markdown",
   "id": "exclusive-skill",
   "metadata": {
    "id": "packed-richmond"
   },
   "source": [
    "#### Using rainfall data + water level data:"
   ]
  },
  {
   "cell_type": "markdown",
   "id": "spectacular-intro",
   "metadata": {
    "id": "tough-venture"
   },
   "source": [
    "##### Data preprocessing:"
   ]
  },
  {
   "cell_type": "code",
   "execution_count": 111,
   "id": "based-rehabilitation",
   "metadata": {
    "colab": {
     "base_uri": "https://localhost:8080/",
     "height": 206
    },
    "id": "ozEfORS2VkbT",
    "outputId": "59374615-7f70-45a1-e0bb-942d720c3704"
   },
   "outputs": [
    {
     "data": {
      "text/html": [
       "\n",
       "  <div id=\"df-abc0bed6-459e-4b3a-9b6e-dfa1c8a111e0\">\n",
       "    <div class=\"colab-df-container\">\n",
       "      <div>\n",
       "<style scoped>\n",
       "    .dataframe tbody tr th:only-of-type {\n",
       "        vertical-align: middle;\n",
       "    }\n",
       "\n",
       "    .dataframe tbody tr th {\n",
       "        vertical-align: top;\n",
       "    }\n",
       "\n",
       "    .dataframe thead th {\n",
       "        text-align: right;\n",
       "    }\n",
       "</style>\n",
       "<table border=\"1\" class=\"dataframe\">\n",
       "  <thead>\n",
       "    <tr style=\"text-align: right;\">\n",
       "      <th></th>\n",
       "      <th>寝屋川</th>\n",
       "      <th>枚方</th>\n",
       "      <th>茨木</th>\n",
       "      <th>西大阪</th>\n",
       "    </tr>\n",
       "  </thead>\n",
       "  <tbody>\n",
       "    <tr>\n",
       "      <th>0</th>\n",
       "      <td>0</td>\n",
       "      <td>0</td>\n",
       "      <td>0</td>\n",
       "      <td>0</td>\n",
       "    </tr>\n",
       "    <tr>\n",
       "      <th>1</th>\n",
       "      <td>0</td>\n",
       "      <td>0</td>\n",
       "      <td>0</td>\n",
       "      <td>0</td>\n",
       "    </tr>\n",
       "    <tr>\n",
       "      <th>2</th>\n",
       "      <td>0</td>\n",
       "      <td>0</td>\n",
       "      <td>0</td>\n",
       "      <td>0</td>\n",
       "    </tr>\n",
       "    <tr>\n",
       "      <th>3</th>\n",
       "      <td>0</td>\n",
       "      <td>0</td>\n",
       "      <td>0</td>\n",
       "      <td>0</td>\n",
       "    </tr>\n",
       "    <tr>\n",
       "      <th>4</th>\n",
       "      <td>0</td>\n",
       "      <td>0</td>\n",
       "      <td>0</td>\n",
       "      <td>0</td>\n",
       "    </tr>\n",
       "  </tbody>\n",
       "</table>\n",
       "</div>\n",
       "      <button class=\"colab-df-convert\" onclick=\"convertToInteractive('df-abc0bed6-459e-4b3a-9b6e-dfa1c8a111e0')\"\n",
       "              title=\"Convert this dataframe to an interactive table.\"\n",
       "              style=\"display:none;\">\n",
       "        \n",
       "  <svg xmlns=\"http://www.w3.org/2000/svg\" height=\"24px\"viewBox=\"0 0 24 24\"\n",
       "       width=\"24px\">\n",
       "    <path d=\"M0 0h24v24H0V0z\" fill=\"none\"/>\n",
       "    <path d=\"M18.56 5.44l.94 2.06.94-2.06 2.06-.94-2.06-.94-.94-2.06-.94 2.06-2.06.94zm-11 1L8.5 8.5l.94-2.06 2.06-.94-2.06-.94L8.5 2.5l-.94 2.06-2.06.94zm10 10l.94 2.06.94-2.06 2.06-.94-2.06-.94-.94-2.06-.94 2.06-2.06.94z\"/><path d=\"M17.41 7.96l-1.37-1.37c-.4-.4-.92-.59-1.43-.59-.52 0-1.04.2-1.43.59L10.3 9.45l-7.72 7.72c-.78.78-.78 2.05 0 2.83L4 21.41c.39.39.9.59 1.41.59.51 0 1.02-.2 1.41-.59l7.78-7.78 2.81-2.81c.8-.78.8-2.07 0-2.86zM5.41 20L4 18.59l7.72-7.72 1.47 1.35L5.41 20z\"/>\n",
       "  </svg>\n",
       "      </button>\n",
       "      \n",
       "  <style>\n",
       "    .colab-df-container {\n",
       "      display:flex;\n",
       "      flex-wrap:wrap;\n",
       "      gap: 12px;\n",
       "    }\n",
       "\n",
       "    .colab-df-convert {\n",
       "      background-color: #E8F0FE;\n",
       "      border: none;\n",
       "      border-radius: 50%;\n",
       "      cursor: pointer;\n",
       "      display: none;\n",
       "      fill: #1967D2;\n",
       "      height: 32px;\n",
       "      padding: 0 0 0 0;\n",
       "      width: 32px;\n",
       "    }\n",
       "\n",
       "    .colab-df-convert:hover {\n",
       "      background-color: #E2EBFA;\n",
       "      box-shadow: 0px 1px 2px rgba(60, 64, 67, 0.3), 0px 1px 3px 1px rgba(60, 64, 67, 0.15);\n",
       "      fill: #174EA6;\n",
       "    }\n",
       "\n",
       "    [theme=dark] .colab-df-convert {\n",
       "      background-color: #3B4455;\n",
       "      fill: #D2E3FC;\n",
       "    }\n",
       "\n",
       "    [theme=dark] .colab-df-convert:hover {\n",
       "      background-color: #434B5C;\n",
       "      box-shadow: 0px 1px 3px 1px rgba(0, 0, 0, 0.15);\n",
       "      filter: drop-shadow(0px 1px 2px rgba(0, 0, 0, 0.3));\n",
       "      fill: #FFFFFF;\n",
       "    }\n",
       "  </style>\n",
       "\n",
       "      <script>\n",
       "        const buttonEl =\n",
       "          document.querySelector('#df-abc0bed6-459e-4b3a-9b6e-dfa1c8a111e0 button.colab-df-convert');\n",
       "        buttonEl.style.display =\n",
       "          google.colab.kernel.accessAllowed ? 'block' : 'none';\n",
       "\n",
       "        async function convertToInteractive(key) {\n",
       "          const element = document.querySelector('#df-abc0bed6-459e-4b3a-9b6e-dfa1c8a111e0');\n",
       "          const dataTable =\n",
       "            await google.colab.kernel.invokeFunction('convertToInteractive',\n",
       "                                                     [key], {});\n",
       "          if (!dataTable) return;\n",
       "\n",
       "          const docLinkHtml = 'Like what you see? Visit the ' +\n",
       "            '<a target=\"_blank\" href=https://colab.research.google.com/notebooks/data_table.ipynb>data table notebook</a>'\n",
       "            + ' to learn more about interactive tables.';\n",
       "          element.innerHTML = '';\n",
       "          dataTable['output_type'] = 'display_data';\n",
       "          await google.colab.output.renderOutput(dataTable, element);\n",
       "          const docLink = document.createElement('div');\n",
       "          docLink.innerHTML = docLinkHtml;\n",
       "          element.appendChild(docLink);\n",
       "        }\n",
       "      </script>\n",
       "    </div>\n",
       "  </div>\n",
       "  "
      ],
      "text/plain": [
       "   寝屋川  枚方  茨木  西大阪\n",
       "0    0   0   0    0\n",
       "1    0   0   0    0\n",
       "2    0   0   0    0\n",
       "3    0   0   0    0\n",
       "4    0   0   0    0"
      ]
     },
     "metadata": {},
     "output_type": "display_data"
    }
   ],
   "source": [
    "levels = df_river['Level']\n",
    "rainfall = df_rainfall.loc[:, df_rainfall.columns!=\"地方局\"]\n",
    "n_total = levels.shape[0]\n",
    "display(rainfall.head())"
   ]
  },
  {
   "cell_type": "code",
   "execution_count": 112,
   "id": "relevant-coupon",
   "metadata": {
    "colab": {
     "base_uri": "https://localhost:8080/"
    },
    "id": "robust-aside",
    "outputId": "44aefabd-e1c4-47b1-af03-9ad00553094e"
   },
   "outputs": [
    {
     "name": "stdout",
     "output_type": "stream",
     "text": [
      "[[[0.  ]\n",
      "  [0.  ]\n",
      "  [0.  ]\n",
      "  [0.  ]\n",
      "  [0.4 ]\n",
      "  [0.4 ]\n",
      "  [0.41]\n",
      "  [0.4 ]\n",
      "  [0.41]\n",
      "  [0.4 ]\n",
      "  [0.41]\n",
      "  [0.4 ]\n",
      "  [0.4 ]\n",
      "  [0.39]\n",
      "  [0.39]\n",
      "  [0.39]\n",
      "  [0.39]\n",
      "  [0.4 ]\n",
      "  [0.4 ]\n",
      "  [0.4 ]\n",
      "  [0.41]\n",
      "  [0.41]\n",
      "  [0.41]\n",
      "  [0.41]\n",
      "  [0.4 ]\n",
      "  [0.41]\n",
      "  [0.41]\n",
      "  [0.41]\n",
      "  [0.41]\n",
      "  [0.41]\n",
      "  [0.41]\n",
      "  [0.41]\n",
      "  [0.41]\n",
      "  [0.41]\n",
      "  [0.41]\n",
      "  [0.41]\n",
      "  [0.41]\n",
      "  [0.41]\n",
      "  [0.41]\n",
      "  [0.41]\n",
      "  [0.42]\n",
      "  [0.42]\n",
      "  [0.42]\n",
      "  [0.42]\n",
      "  [0.42]\n",
      "  [0.42]\n",
      "  [0.42]\n",
      "  [0.41]\n",
      "  [0.42]\n",
      "  [0.42]\n",
      "  [0.42]\n",
      "  [0.43]\n",
      "  [0.43]\n",
      "  [0.42]\n",
      "  [0.43]\n",
      "  [0.43]\n",
      "  [0.43]\n",
      "  [0.45]\n",
      "  [0.44]\n",
      "  [0.45]\n",
      "  [0.45]\n",
      "  [0.44]\n",
      "  [0.44]\n",
      "  [0.44]\n",
      "  [0.44]\n",
      "  [0.45]\n",
      "  [0.45]\n",
      "  [0.45]\n",
      "  [0.45]\n",
      "  [0.45]\n",
      "  [0.44]\n",
      "  [0.44]\n",
      "  [0.44]\n",
      "  [0.44]\n",
      "  [0.44]\n",
      "  [0.45]\n",
      "  [0.45]\n",
      "  [0.45]\n",
      "  [0.44]\n",
      "  [0.45]\n",
      "  [0.44]\n",
      "  [0.44]\n",
      "  [0.44]\n",
      "  [0.44]\n",
      "  [0.44]\n",
      "  [0.44]\n",
      "  [0.44]\n",
      "  [0.45]\n",
      "  [0.44]\n",
      "  [0.44]\n",
      "  [0.44]\n",
      "  [0.45]\n",
      "  [0.44]\n",
      "  [0.44]\n",
      "  [0.44]\n",
      "  [0.44]\n",
      "  [0.44]\n",
      "  [0.44]\n",
      "  [0.44]\n",
      "  [0.44]\n",
      "  [0.44]\n",
      "  [0.45]\n",
      "  [0.44]\n",
      "  [0.45]\n",
      "  [0.44]\n",
      "  [0.44]\n",
      "  [0.44]\n",
      "  [0.44]\n",
      "  [0.44]\n",
      "  [0.45]\n",
      "  [0.44]\n",
      "  [0.45]\n",
      "  [0.45]\n",
      "  [0.45]\n",
      "  [0.45]\n",
      "  [0.45]\n",
      "  [0.45]\n",
      "  [0.45]\n",
      "  [0.45]\n",
      "  [0.45]\n",
      "  [0.45]\n",
      "  [0.45]\n",
      "  [0.46]\n",
      "  [0.45]\n",
      "  [0.45]\n",
      "  [0.45]\n",
      "  [0.46]\n",
      "  [0.45]\n",
      "  [0.45]\n",
      "  [0.45]\n",
      "  [0.45]\n",
      "  [0.45]\n",
      "  [0.45]\n",
      "  [0.45]\n",
      "  [0.45]\n",
      "  [0.45]\n",
      "  [0.45]\n",
      "  [0.45]\n",
      "  [0.45]\n",
      "  [0.45]\n",
      "  [0.45]\n",
      "  [0.45]\n",
      "  [0.45]\n",
      "  [0.45]\n",
      "  [0.45]\n",
      "  [0.44]\n",
      "  [0.44]\n",
      "  [0.44]]]\n",
      "[0.43 0.43 0.42 0.43 0.42]\n"
     ]
    }
   ],
   "source": [
    "x2 = []\n",
    "y2 = []\n",
    "\n",
    "for i in range(0, n_total-w-n_valid):\n",
    "    x_val = np.concatenate((np.array(rainfall.iloc[i+w-1, :]).reshape(rainfall.shape[1],1), np.array(levels[i:i+w]).reshape(w,1)), axis=0)\n",
    "    x2.append(x_val)\n",
    "    y2.append(levels[i+w])\n",
    "\n",
    "x2 = np.asarray(x2).astype('float32')\n",
    "y2 = np.array(y2).reshape(-1,1)\n",
    "print(x2[:1])  # debug\n",
    "print(y2[:5])  # debug"
   ]
  },
  {
   "cell_type": "markdown",
   "id": "proper-negotiation",
   "metadata": {
    "id": "functioning-twist"
   },
   "source": [
    "##### Executing model fitting:"
   ]
  },
  {
   "cell_type": "code",
   "execution_count": 123,
   "id": "behavioral-guyana",
   "metadata": {
    "colab": {
     "base_uri": "https://localhost:8080/"
    },
    "id": "supreme-malta",
    "outputId": "17092ab8-6d27-400a-a5cf-37abd3c43e0b"
   },
   "outputs": [
    {
     "name": "stdout",
     "output_type": "stream",
     "text": [
      "Model: \"sequential_3\"\n",
      "_________________________________________________________________\n",
      " Layer (type)                Output Shape              Param #   \n",
      "=================================================================\n",
      " lstm_3 (LSTM)               (None, 100)               40800     \n",
      "                                                                 \n",
      " dense_3 (Dense)             (None, 1)                 101       \n",
      "                                                                 \n",
      "=================================================================\n",
      "Total params: 40,901\n",
      "Trainable params: 40,901\n",
      "Non-trainable params: 0\n",
      "_________________________________________________________________\n"
     ]
    }
   ],
   "source": [
    "n_out = 1\n",
    "n_hidden = 100\n",
    "\n",
    "# early stopping and model checkpoint\n",
    "es_cb = EarlyStopping(monitor='val_loss',\n",
    "                      patience=30, verbose=1, mode='auto')\n",
    "\n",
    "model = Sequential()\n",
    "model.add(LSTM(n_hidden, input_shape=(w+4, 1), return_sequences=False))\n",
    "model.add(Dense(n_out, activation='linear'))\n",
    "\n",
    "model.summary()"
   ]
  },
  {
   "cell_type": "code",
   "execution_count": 124,
   "id": "challenging-syndrome",
   "metadata": {
    "id": "2GqNjL0_Z_nU"
   },
   "outputs": [],
   "source": [
    "model.compile(loss=\"mean_squared_error\", optimizer='adam')"
   ]
  },
  {
   "cell_type": "code",
   "execution_count": 125,
   "id": "sustained-sunset",
   "metadata": {
    "colab": {
     "base_uri": "https://localhost:8080/"
    },
    "id": "86WPEEvaaDkb",
    "outputId": "2cdb34a1-9ef9-49c3-d1f2-c1ce6b1a4250"
   },
   "outputs": [
    {
     "name": "stdout",
     "output_type": "stream",
     "text": [
      "Epoch 1/40\n",
      "96/96 [==============================] - 84s 766ms/step - loss: 0.0283 - val_loss: 0.0043\n",
      "Epoch 2/40\n",
      "96/96 [==============================] - 72s 753ms/step - loss: 0.0023 - val_loss: 0.0043\n",
      "Epoch 3/40\n",
      "96/96 [==============================] - 71s 741ms/step - loss: 0.0023 - val_loss: 0.0042\n",
      "Epoch 4/40\n",
      "96/96 [==============================] - 69s 723ms/step - loss: 0.0022 - val_loss: 0.0041\n",
      "Epoch 5/40\n",
      "96/96 [==============================] - 69s 718ms/step - loss: 0.0022 - val_loss: 0.0040\n",
      "Epoch 6/40\n",
      "96/96 [==============================] - 68s 708ms/step - loss: 0.0022 - val_loss: 0.0039\n",
      "Epoch 7/40\n",
      "96/96 [==============================] - 72s 746ms/step - loss: 0.0021 - val_loss: 0.0038\n",
      "Epoch 8/40\n",
      "96/96 [==============================] - 71s 738ms/step - loss: 0.0021 - val_loss: 0.0037\n",
      "Epoch 9/40\n",
      "96/96 [==============================] - 71s 744ms/step - loss: 0.0020 - val_loss: 0.0036\n",
      "Epoch 10/40\n",
      "96/96 [==============================] - 71s 742ms/step - loss: 0.0020 - val_loss: 0.0036\n",
      "Epoch 11/40\n",
      "96/96 [==============================] - 71s 743ms/step - loss: 0.0019 - val_loss: 0.0033\n",
      "Epoch 12/40\n",
      "96/96 [==============================] - 71s 739ms/step - loss: 0.0019 - val_loss: 0.0031\n",
      "Epoch 13/40\n",
      "96/96 [==============================] - 73s 756ms/step - loss: 0.0018 - val_loss: 0.0030\n",
      "Epoch 14/40\n",
      "96/96 [==============================] - 72s 748ms/step - loss: 0.0018 - val_loss: 0.0028\n",
      "Epoch 15/40\n",
      "96/96 [==============================] - 73s 756ms/step - loss: 0.0017 - val_loss: 0.0026\n",
      "Epoch 16/40\n",
      "96/96 [==============================] - 72s 752ms/step - loss: 0.0017 - val_loss: 0.0025\n",
      "Epoch 17/40\n",
      "96/96 [==============================] - 71s 739ms/step - loss: 0.0017 - val_loss: 0.0024\n",
      "Epoch 18/40\n",
      "96/96 [==============================] - 66s 691ms/step - loss: 0.0016 - val_loss: 0.0023\n",
      "Epoch 19/40\n",
      "96/96 [==============================] - 67s 694ms/step - loss: 0.0016 - val_loss: 0.0024\n",
      "Epoch 20/40\n",
      "96/96 [==============================] - 65s 683ms/step - loss: 0.0015 - val_loss: 0.0022\n",
      "Epoch 21/40\n",
      "96/96 [==============================] - 66s 693ms/step - loss: 0.0016 - val_loss: 0.0021\n",
      "Epoch 22/40\n",
      "96/96 [==============================] - 66s 684ms/step - loss: 0.0015 - val_loss: 0.0021\n",
      "Epoch 23/40\n",
      "96/96 [==============================] - 66s 686ms/step - loss: 0.0015 - val_loss: 0.0021\n",
      "Epoch 24/40\n",
      "96/96 [==============================] - 66s 689ms/step - loss: 0.0015 - val_loss: 0.0020\n",
      "Epoch 25/40\n",
      "96/96 [==============================] - 67s 694ms/step - loss: 0.0015 - val_loss: 0.0021\n",
      "Epoch 26/40\n",
      "96/96 [==============================] - 66s 691ms/step - loss: 0.0014 - val_loss: 0.0022\n",
      "Epoch 27/40\n",
      "96/96 [==============================] - 66s 693ms/step - loss: 0.0014 - val_loss: 0.0019\n",
      "Epoch 28/40\n",
      "96/96 [==============================] - 66s 688ms/step - loss: 0.0014 - val_loss: 0.0019\n",
      "Epoch 29/40\n",
      "96/96 [==============================] - 69s 718ms/step - loss: 0.0014 - val_loss: 0.0019\n",
      "Epoch 30/40\n",
      "96/96 [==============================] - 71s 738ms/step - loss: 0.0014 - val_loss: 0.0018\n",
      "Epoch 31/40\n",
      "96/96 [==============================] - 70s 729ms/step - loss: 0.0014 - val_loss: 0.0018\n",
      "Epoch 32/40\n",
      "96/96 [==============================] - 66s 685ms/step - loss: 0.0014 - val_loss: 0.0018\n",
      "Epoch 33/40\n",
      "96/96 [==============================] - 65s 682ms/step - loss: 0.0014 - val_loss: 0.0018\n",
      "Epoch 34/40\n",
      "96/96 [==============================] - 67s 696ms/step - loss: 0.0014 - val_loss: 0.0018\n",
      "Epoch 35/40\n",
      "96/96 [==============================] - 66s 687ms/step - loss: 0.0014 - val_loss: 0.0018\n",
      "Epoch 36/40\n",
      "96/96 [==============================] - 66s 691ms/step - loss: 0.0014 - val_loss: 0.0018\n",
      "Epoch 37/40\n",
      "96/96 [==============================] - 66s 691ms/step - loss: 0.0014 - val_loss: 0.0018\n",
      "Epoch 38/40\n",
      "96/96 [==============================] - 67s 695ms/step - loss: 0.0014 - val_loss: 0.0018\n",
      "Epoch 39/40\n",
      "96/96 [==============================] - 66s 683ms/step - loss: 0.0014 - val_loss: 0.0018\n",
      "Epoch 40/40\n",
      "96/96 [==============================] - 71s 736ms/step - loss: 0.0014 - val_loss: 0.0018\n"
     ]
    }
   ],
   "source": [
    "n_epochs = 40\n",
    "val_split = 0.2\n",
    "batch_size = 400\n",
    "\n",
    "fit_log = model.fit(x2, y2, batch_size=batch_size, epochs=n_epochs,\n",
    "                    validation_split=val_split, callbacks=[es_cb])"
   ]
  },
  {
   "cell_type": "code",
   "execution_count": 128,
   "id": "valuable-scope",
   "metadata": {
    "id": "1XDqNllhuE5v"
   },
   "outputs": [],
   "source": [
    "model.save('lstm_river_rainfall_40epochs.h5')"
   ]
  },
  {
   "cell_type": "code",
   "execution_count": 126,
   "id": "limited-squad",
   "metadata": {
    "colab": {
     "base_uri": "https://localhost:8080/"
    },
    "id": "U3YlpAXurCXD",
    "outputId": "3ff51217-4858-4fd4-987f-8f928fd49e58"
   },
   "outputs": [
    {
     "name": "stdout",
     "output_type": "stream",
     "text": [
      "(47897, 1)\n",
      "(47897,)\n",
      "0.012979037028020855\n"
     ]
    }
   ],
   "source": [
    "# Against training data\n",
    "pred = model.predict(x2)\n",
    "print(pred.shape)  # debug\n",
    "\n",
    "train_real_output = levels[:n_total-n_valid-w]\n",
    "print(np.shape(train_real_output))\n",
    "print(mean_squared_error(pred, train_real_output))"
   ]
  },
  {
   "cell_type": "markdown",
   "id": "fleet-ukraine",
   "metadata": {
    "id": "built-hydrogen"
   },
   "source": [
    "##### Performance on validation data:"
   ]
  },
  {
   "cell_type": "code",
   "execution_count": 131,
   "id": "every-compensation",
   "metadata": {
    "colab": {
     "base_uri": "https://localhost:8080/"
    },
    "id": "W3kimI6I3pT1",
    "outputId": "716e51df-8153-4fe9-864b-d19f1f47a0d7"
   },
   "outputs": [
    {
     "name": "stdout",
     "output_type": "stream",
     "text": [
      "Int64Index([48040], dtype='int64')\n"
     ]
    }
   ],
   "source": [
    "print(df_rainfall[df_rainfall['地方局']==\"2020年11月30日0時0分\"].index)"
   ]
  },
  {
   "cell_type": "code",
   "execution_count": 156,
   "id": "southwest-diameter",
   "metadata": {
    "colab": {
     "base_uri": "https://localhost:8080/",
     "height": 423
    },
    "id": "8A6Z4T0L31oo",
    "outputId": "65cd6970-64b6-4d2b-ce77-9e1241f2c79a"
   },
   "outputs": [
    {
     "data": {
      "text/html": [
       "\n",
       "  <div id=\"df-4b571f48-af4a-4b6d-a56e-c69e50d7cf8f\">\n",
       "    <div class=\"colab-df-container\">\n",
       "      <div>\n",
       "<style scoped>\n",
       "    .dataframe tbody tr th:only-of-type {\n",
       "        vertical-align: middle;\n",
       "    }\n",
       "\n",
       "    .dataframe tbody tr th {\n",
       "        vertical-align: top;\n",
       "    }\n",
       "\n",
       "    .dataframe thead th {\n",
       "        text-align: right;\n",
       "    }\n",
       "</style>\n",
       "<table border=\"1\" class=\"dataframe\">\n",
       "  <thead>\n",
       "    <tr style=\"text-align: right;\">\n",
       "      <th></th>\n",
       "      <th>寝屋川</th>\n",
       "      <th>枚方</th>\n",
       "      <th>茨木</th>\n",
       "      <th>西大阪</th>\n",
       "    </tr>\n",
       "  </thead>\n",
       "  <tbody>\n",
       "    <tr>\n",
       "      <th>48040</th>\n",
       "      <td>0</td>\n",
       "      <td>0</td>\n",
       "      <td>0</td>\n",
       "      <td>0</td>\n",
       "    </tr>\n",
       "    <tr>\n",
       "      <th>48041</th>\n",
       "      <td>0</td>\n",
       "      <td>0</td>\n",
       "      <td>0</td>\n",
       "      <td>0</td>\n",
       "    </tr>\n",
       "    <tr>\n",
       "      <th>48042</th>\n",
       "      <td>0</td>\n",
       "      <td>0</td>\n",
       "      <td>0</td>\n",
       "      <td>0</td>\n",
       "    </tr>\n",
       "    <tr>\n",
       "      <th>48043</th>\n",
       "      <td>0</td>\n",
       "      <td>0</td>\n",
       "      <td>0</td>\n",
       "      <td>0</td>\n",
       "    </tr>\n",
       "    <tr>\n",
       "      <th>48044</th>\n",
       "      <td>0</td>\n",
       "      <td>0</td>\n",
       "      <td>0</td>\n",
       "      <td>0</td>\n",
       "    </tr>\n",
       "    <tr>\n",
       "      <th>...</th>\n",
       "      <td>...</td>\n",
       "      <td>...</td>\n",
       "      <td>...</td>\n",
       "      <td>...</td>\n",
       "    </tr>\n",
       "    <tr>\n",
       "      <th>48179</th>\n",
       "      <td>0</td>\n",
       "      <td>0</td>\n",
       "      <td>0</td>\n",
       "      <td>0</td>\n",
       "    </tr>\n",
       "    <tr>\n",
       "      <th>48180</th>\n",
       "      <td>0</td>\n",
       "      <td>0</td>\n",
       "      <td>0</td>\n",
       "      <td>0</td>\n",
       "    </tr>\n",
       "    <tr>\n",
       "      <th>48181</th>\n",
       "      <td>0</td>\n",
       "      <td>0</td>\n",
       "      <td>0</td>\n",
       "      <td>0</td>\n",
       "    </tr>\n",
       "    <tr>\n",
       "      <th>48182</th>\n",
       "      <td>0</td>\n",
       "      <td>0</td>\n",
       "      <td>0</td>\n",
       "      <td>0</td>\n",
       "    </tr>\n",
       "    <tr>\n",
       "      <th>48183</th>\n",
       "      <td>0</td>\n",
       "      <td>0</td>\n",
       "      <td>0</td>\n",
       "      <td>0</td>\n",
       "    </tr>\n",
       "  </tbody>\n",
       "</table>\n",
       "<p>144 rows × 4 columns</p>\n",
       "</div>\n",
       "      <button class=\"colab-df-convert\" onclick=\"convertToInteractive('df-4b571f48-af4a-4b6d-a56e-c69e50d7cf8f')\"\n",
       "              title=\"Convert this dataframe to an interactive table.\"\n",
       "              style=\"display:none;\">\n",
       "        \n",
       "  <svg xmlns=\"http://www.w3.org/2000/svg\" height=\"24px\"viewBox=\"0 0 24 24\"\n",
       "       width=\"24px\">\n",
       "    <path d=\"M0 0h24v24H0V0z\" fill=\"none\"/>\n",
       "    <path d=\"M18.56 5.44l.94 2.06.94-2.06 2.06-.94-2.06-.94-.94-2.06-.94 2.06-2.06.94zm-11 1L8.5 8.5l.94-2.06 2.06-.94-2.06-.94L8.5 2.5l-.94 2.06-2.06.94zm10 10l.94 2.06.94-2.06 2.06-.94-2.06-.94-.94-2.06-.94 2.06-2.06.94z\"/><path d=\"M17.41 7.96l-1.37-1.37c-.4-.4-.92-.59-1.43-.59-.52 0-1.04.2-1.43.59L10.3 9.45l-7.72 7.72c-.78.78-.78 2.05 0 2.83L4 21.41c.39.39.9.59 1.41.59.51 0 1.02-.2 1.41-.59l7.78-7.78 2.81-2.81c.8-.78.8-2.07 0-2.86zM5.41 20L4 18.59l7.72-7.72 1.47 1.35L5.41 20z\"/>\n",
       "  </svg>\n",
       "      </button>\n",
       "      \n",
       "  <style>\n",
       "    .colab-df-container {\n",
       "      display:flex;\n",
       "      flex-wrap:wrap;\n",
       "      gap: 12px;\n",
       "    }\n",
       "\n",
       "    .colab-df-convert {\n",
       "      background-color: #E8F0FE;\n",
       "      border: none;\n",
       "      border-radius: 50%;\n",
       "      cursor: pointer;\n",
       "      display: none;\n",
       "      fill: #1967D2;\n",
       "      height: 32px;\n",
       "      padding: 0 0 0 0;\n",
       "      width: 32px;\n",
       "    }\n",
       "\n",
       "    .colab-df-convert:hover {\n",
       "      background-color: #E2EBFA;\n",
       "      box-shadow: 0px 1px 2px rgba(60, 64, 67, 0.3), 0px 1px 3px 1px rgba(60, 64, 67, 0.15);\n",
       "      fill: #174EA6;\n",
       "    }\n",
       "\n",
       "    [theme=dark] .colab-df-convert {\n",
       "      background-color: #3B4455;\n",
       "      fill: #D2E3FC;\n",
       "    }\n",
       "\n",
       "    [theme=dark] .colab-df-convert:hover {\n",
       "      background-color: #434B5C;\n",
       "      box-shadow: 0px 1px 3px 1px rgba(0, 0, 0, 0.15);\n",
       "      filter: drop-shadow(0px 1px 2px rgba(0, 0, 0, 0.3));\n",
       "      fill: #FFFFFF;\n",
       "    }\n",
       "  </style>\n",
       "\n",
       "      <script>\n",
       "        const buttonEl =\n",
       "          document.querySelector('#df-4b571f48-af4a-4b6d-a56e-c69e50d7cf8f button.colab-df-convert');\n",
       "        buttonEl.style.display =\n",
       "          google.colab.kernel.accessAllowed ? 'block' : 'none';\n",
       "\n",
       "        async function convertToInteractive(key) {\n",
       "          const element = document.querySelector('#df-4b571f48-af4a-4b6d-a56e-c69e50d7cf8f');\n",
       "          const dataTable =\n",
       "            await google.colab.kernel.invokeFunction('convertToInteractive',\n",
       "                                                     [key], {});\n",
       "          if (!dataTable) return;\n",
       "\n",
       "          const docLinkHtml = 'Like what you see? Visit the ' +\n",
       "            '<a target=\"_blank\" href=https://colab.research.google.com/notebooks/data_table.ipynb>data table notebook</a>'\n",
       "            + ' to learn more about interactive tables.';\n",
       "          element.innerHTML = '';\n",
       "          dataTable['output_type'] = 'display_data';\n",
       "          await google.colab.output.renderOutput(dataTable, element);\n",
       "          const docLink = document.createElement('div');\n",
       "          docLink.innerHTML = docLinkHtml;\n",
       "          element.appendChild(docLink);\n",
       "        }\n",
       "      </script>\n",
       "    </div>\n",
       "  </div>\n",
       "  "
      ],
      "text/plain": [
       "       寝屋川  枚方  茨木  西大阪\n",
       "48040    0   0   0    0\n",
       "48041    0   0   0    0\n",
       "48042    0   0   0    0\n",
       "48043    0   0   0    0\n",
       "48044    0   0   0    0\n",
       "...    ...  ..  ..  ...\n",
       "48179    0   0   0    0\n",
       "48180    0   0   0    0\n",
       "48181    0   0   0    0\n",
       "48182    0   0   0    0\n",
       "48183    0   0   0    0\n",
       "\n",
       "[144 rows x 4 columns]"
      ]
     },
     "metadata": {},
     "output_type": "display_data"
    }
   ],
   "source": [
    "valid_rainfall = rainfall.loc[48040:48040+6*24-1,:]\n",
    "display(valid_rainfall)"
   ]
  },
  {
   "cell_type": "code",
   "execution_count": 163,
   "id": "stupid-dietary",
   "metadata": {
    "colab": {
     "base_uri": "https://localhost:8080/"
    },
    "id": "9H6krUhIsNDw",
    "outputId": "538db671-be46-4cb8-fb92-2a50b1157da2"
   },
   "outputs": [
    {
     "name": "stdout",
     "output_type": "stream",
     "text": [
      "(148, 1)\n",
      "[[0.  ]\n",
      " [0.  ]\n",
      " [0.  ]\n",
      " [0.  ]\n",
      " [1.05]]\n"
     ]
    }
   ],
   "source": [
    "# Future prediction\n",
    "level_test = np.array(levels[n_total-w-n_valid:n_total-n_valid])\n",
    "future_test = np.concatenate((np.array(valid_rainfall.iloc[0, :]).reshape(valid_rainfall.shape[1],1), level_test.reshape(w,1)), axis=0)\n",
    "future_test = future_test.reshape(future_test.shape[0],1)\n",
    "print(future_test.shape)\n",
    "print(future_test[:5])  # debug\n",
    "future_result = []"
   ]
  },
  {
   "cell_type": "code",
   "execution_count": 164,
   "id": "finished-kuwait",
   "metadata": {
    "id": "rlxetl395S5b"
   },
   "outputs": [],
   "source": [
    "for i in range(n_valid):\n",
    "    test_data = np.reshape(future_test, (1, w+4, 1))\n",
    "    #print(test_data.shape)  # debug\n",
    "    pred1 = model.predict(test_data)\n",
    "    level_test = np.delete(level_test, 0)\n",
    "    level_test = np.append(level_test, pred1)\n",
    "    future_test = np.concatenate((np.array(valid_rainfall.iloc[i, :]).reshape(valid_rainfall.shape[1],1), level_test.reshape(w,1)), axis=0)\n",
    "    future_test = future_test.reshape(future_test.shape[0],1)\n",
    "    future_result = np.append(future_result, pred1)"
   ]
  },
  {
   "cell_type": "code",
   "execution_count": 165,
   "id": "organic-ladder",
   "metadata": {
    "colab": {
     "base_uri": "https://localhost:8080/"
    },
    "id": "MtmeXF1G7mIh",
    "outputId": "d9c5b753-2715-49b1-f90f-17a1f17b9f3c"
   },
   "outputs": [
    {
     "name": "stdout",
     "output_type": "stream",
     "text": [
      "[0.7255156  0.72772443 0.72938371 0.73061484 0.73158991 0.73239613\n",
      " 0.73308927 0.73370785 0.73427916 0.73482138 0.73534679 0.73586333\n",
      " 0.73637581 0.73688668 0.73739755 0.7379089  0.73842102 0.73893386\n",
      " 0.73944712 0.73996091 0.740475   0.74098927 0.74150383 0.74201852\n",
      " 0.7425335  0.74304867 0.74356425 0.74408031 0.74459672 0.74511367\n",
      " 0.74563098 0.746149   0.7466675  0.74718666 0.74770659 0.74822694\n",
      " 0.748748   0.74926972 0.7497921  0.75031525 0.75083894 0.75136328\n",
      " 0.75188839 0.75241423 0.75294083 0.75346786 0.75399584 0.75452417\n",
      " 0.75505322 0.75558299 0.75611359 0.7566449  0.75717676 0.75770932\n",
      " 0.75824249 0.75877649 0.75931102 0.75984633 0.76038218 0.76091868\n",
      " 0.76145589 0.76199365 0.76253247 0.76307195 0.76361173 0.76415235\n",
      " 0.76469362 0.76523542 0.76577812 0.76632112 0.76686502 0.76740956\n",
      " 0.76795471 0.76850063 0.7690472  0.76959431 0.77014208 0.77069056\n",
      " 0.7712394  0.77178901 0.77233946 0.77289033 0.77344197 0.77399427\n",
      " 0.7745471  0.77510059 0.77565461 0.77620947 0.77676487 0.77732074\n",
      " 0.77787721 0.7784344  0.77899218 0.77955061 0.7801097  0.78066939\n",
      " 0.78122962 0.78179032 0.78235179 0.7829138  0.78347653 0.7840398\n",
      " 0.78460371 0.78516811 0.78573298 0.78629845 0.78686476 0.78743136\n",
      " 0.78799856 0.78856653 0.78913492 0.78970391 0.79027349 0.79084355\n",
      " 0.79141414 0.79198539 0.79255724 0.79312944 0.79370242 0.79427564\n",
      " 0.79484957 0.79542398 0.79599911 0.79657465 0.79715055 0.79772711\n",
      " 0.7983042  0.79888189 0.79946005 0.80003852 0.80061764 0.80119717\n",
      " 0.80177736 0.80235797 0.80293906 0.80352062 0.80410248 0.80468482\n",
      " 0.80526799 0.8058514  0.80643541 0.80701965 0.80760461 0.80818987]\n"
     ]
    }
   ],
   "source": [
    "print(future_result)"
   ]
  },
  {
   "cell_type": "code",
   "execution_count": 166,
   "id": "transsexual-brake",
   "metadata": {
    "colab": {
     "base_uri": "https://localhost:8080/",
     "height": 313
    },
    "id": "p3UQZaqU8UUl",
    "outputId": "b3d709be-5cd8-403d-c947-5a8876cd97c7"
   },
   "outputs": [
    {
     "name": "stdout",
     "output_type": "stream",
     "text": [
      "0.0022407968685380867\n"
     ]
    },
    {
     "data": {
      "image/png": "[encoded data removed]",
      "text/plain": [
       "<Figure size 432x288 with 1 Axes>"
      ]
     },
     "metadata": {
      "needs_background": "light"
     },
     "output_type": "display_data"
    }
   ],
   "source": [
    "print(mean_squared_error(future_result, valid_real_results))\n",
    "plt.plot(np.array(range(future_result.shape[0])), future_result, label=\"Prediction\")\n",
    "plt.plot(np.array(range(future_result.shape[0])), valid_real_results, label=\"Real\")\n",
    "plt.title(\"Validation data\")\n",
    "plt.xlabel(\"10*minutes from 1/12/2020 0:00\")\n",
    "plt.ylabel(\"Water level\")\n",
    "plt.show()"
   ]
  },
  {
   "cell_type": "code",
   "execution_count": 167,
   "id": "quantitative-kenya",
   "metadata": {
    "colab": {
     "base_uri": "https://localhost:8080/"
    },
    "id": "wRlwgDoE8h0x",
    "outputId": "f3abab08-7999-4157-99cb-d9b0920f7990"
   },
   "outputs": [
    {
     "name": "stdout",
     "output_type": "stream",
     "text": [
      "(144, 1)\n",
      "[[0.73]\n",
      " [0.73]\n",
      " [0.73]\n",
      " [0.72]\n",
      " [0.72]]\n"
     ]
    }
   ],
   "source": [
    "# Test data:\n",
    "\n",
    "test = levels[n_total-w:]\n",
    "test = test.values.reshape(test.shape[0],1)\n",
    "print(test.shape)\n",
    "print(test[:5])  # debug\n",
    "future_result = []"
   ]
  },
  {
   "cell_type": "code",
   "execution_count": 171,
   "id": "transparent-interpretation",
   "metadata": {
    "colab": {
     "base_uri": "https://localhost:8080/",
     "height": 423
    },
    "id": "FOK0Ojaf8-Mz",
    "outputId": "d7c9cd06-d0dc-4172-fd6e-f8a07f983f1c"
   },
   "outputs": [
    {
     "data": {
      "text/html": [
       "\n",
       "  <div id=\"df-e24b9718-2aef-4a6b-996e-4cdc5c39918d\">\n",
       "    <div class=\"colab-df-container\">\n",
       "      <div>\n",
       "<style scoped>\n",
       "    .dataframe tbody tr th:only-of-type {\n",
       "        vertical-align: middle;\n",
       "    }\n",
       "\n",
       "    .dataframe tbody tr th {\n",
       "        vertical-align: top;\n",
       "    }\n",
       "\n",
       "    .dataframe thead th {\n",
       "        text-align: right;\n",
       "    }\n",
       "</style>\n",
       "<table border=\"1\" class=\"dataframe\">\n",
       "  <thead>\n",
       "    <tr style=\"text-align: right;\">\n",
       "      <th></th>\n",
       "      <th>地方局</th>\n",
       "      <th>寝屋川</th>\n",
       "      <th>枚方</th>\n",
       "      <th>茨木</th>\n",
       "      <th>西大阪</th>\n",
       "    </tr>\n",
       "  </thead>\n",
       "  <tbody>\n",
       "    <tr>\n",
       "      <th>48184</th>\n",
       "      <td>2020年12月1日0時0分</td>\n",
       "      <td>0</td>\n",
       "      <td>0</td>\n",
       "      <td>0</td>\n",
       "      <td>0</td>\n",
       "    </tr>\n",
       "    <tr>\n",
       "      <th>48185</th>\n",
       "      <td>2020年12月1日0時10分</td>\n",
       "      <td>0</td>\n",
       "      <td>0</td>\n",
       "      <td>0</td>\n",
       "      <td>0</td>\n",
       "    </tr>\n",
       "    <tr>\n",
       "      <th>48186</th>\n",
       "      <td>2020年12月1日0時20分</td>\n",
       "      <td>0</td>\n",
       "      <td>0</td>\n",
       "      <td>0</td>\n",
       "      <td>0</td>\n",
       "    </tr>\n",
       "    <tr>\n",
       "      <th>48187</th>\n",
       "      <td>2020年12月1日0時30分</td>\n",
       "      <td>0</td>\n",
       "      <td>0</td>\n",
       "      <td>0</td>\n",
       "      <td>0</td>\n",
       "    </tr>\n",
       "    <tr>\n",
       "      <th>48188</th>\n",
       "      <td>2020年12月1日0時40分</td>\n",
       "      <td>0</td>\n",
       "      <td>0</td>\n",
       "      <td>0</td>\n",
       "      <td>0</td>\n",
       "    </tr>\n",
       "    <tr>\n",
       "      <th>...</th>\n",
       "      <td>...</td>\n",
       "      <td>...</td>\n",
       "      <td>...</td>\n",
       "      <td>...</td>\n",
       "      <td>...</td>\n",
       "    </tr>\n",
       "    <tr>\n",
       "      <th>52643</th>\n",
       "      <td>2020年12月31日23時10分</td>\n",
       "      <td>0</td>\n",
       "      <td>0</td>\n",
       "      <td>0</td>\n",
       "      <td>0</td>\n",
       "    </tr>\n",
       "    <tr>\n",
       "      <th>52644</th>\n",
       "      <td>2020年12月31日23時20分</td>\n",
       "      <td>0</td>\n",
       "      <td>0</td>\n",
       "      <td>0</td>\n",
       "      <td>0</td>\n",
       "    </tr>\n",
       "    <tr>\n",
       "      <th>52645</th>\n",
       "      <td>2020年12月31日23時30分</td>\n",
       "      <td>0</td>\n",
       "      <td>0</td>\n",
       "      <td>0</td>\n",
       "      <td>0</td>\n",
       "    </tr>\n",
       "    <tr>\n",
       "      <th>52646</th>\n",
       "      <td>2020年12月31日23時40分</td>\n",
       "      <td>0</td>\n",
       "      <td>0</td>\n",
       "      <td>0</td>\n",
       "      <td>0</td>\n",
       "    </tr>\n",
       "    <tr>\n",
       "      <th>52647</th>\n",
       "      <td>2020年12月31日23時50分</td>\n",
       "      <td>0</td>\n",
       "      <td>0</td>\n",
       "      <td>0</td>\n",
       "      <td>0</td>\n",
       "    </tr>\n",
       "  </tbody>\n",
       "</table>\n",
       "<p>4464 rows × 5 columns</p>\n",
       "</div>\n",
       "      <button class=\"colab-df-convert\" onclick=\"convertToInteractive('df-e24b9718-2aef-4a6b-996e-4cdc5c39918d')\"\n",
       "              title=\"Convert this dataframe to an interactive table.\"\n",
       "              style=\"display:none;\">\n",
       "        \n",
       "  <svg xmlns=\"http://www.w3.org/2000/svg\" height=\"24px\"viewBox=\"0 0 24 24\"\n",
       "       width=\"24px\">\n",
       "    <path d=\"M0 0h24v24H0V0z\" fill=\"none\"/>\n",
       "    <path d=\"M18.56 5.44l.94 2.06.94-2.06 2.06-.94-2.06-.94-.94-2.06-.94 2.06-2.06.94zm-11 1L8.5 8.5l.94-2.06 2.06-.94-2.06-.94L8.5 2.5l-.94 2.06-2.06.94zm10 10l.94 2.06.94-2.06 2.06-.94-2.06-.94-.94-2.06-.94 2.06-2.06.94z\"/><path d=\"M17.41 7.96l-1.37-1.37c-.4-.4-.92-.59-1.43-.59-.52 0-1.04.2-1.43.59L10.3 9.45l-7.72 7.72c-.78.78-.78 2.05 0 2.83L4 21.41c.39.39.9.59 1.41.59.51 0 1.02-.2 1.41-.59l7.78-7.78 2.81-2.81c.8-.78.8-2.07 0-2.86zM5.41 20L4 18.59l7.72-7.72 1.47 1.35L5.41 20z\"/>\n",
       "  </svg>\n",
       "      </button>\n",
       "      \n",
       "  <style>\n",
       "    .colab-df-container {\n",
       "      display:flex;\n",
       "      flex-wrap:wrap;\n",
       "      gap: 12px;\n",
       "    }\n",
       "\n",
       "    .colab-df-convert {\n",
       "      background-color: #E8F0FE;\n",
       "      border: none;\n",
       "      border-radius: 50%;\n",
       "      cursor: pointer;\n",
       "      display: none;\n",
       "      fill: #1967D2;\n",
       "      height: 32px;\n",
       "      padding: 0 0 0 0;\n",
       "      width: 32px;\n",
       "    }\n",
       "\n",
       "    .colab-df-convert:hover {\n",
       "      background-color: #E2EBFA;\n",
       "      box-shadow: 0px 1px 2px rgba(60, 64, 67, 0.3), 0px 1px 3px 1px rgba(60, 64, 67, 0.15);\n",
       "      fill: #174EA6;\n",
       "    }\n",
       "\n",
       "    [theme=dark] .colab-df-convert {\n",
       "      background-color: #3B4455;\n",
       "      fill: #D2E3FC;\n",
       "    }\n",
       "\n",
       "    [theme=dark] .colab-df-convert:hover {\n",
       "      background-color: #434B5C;\n",
       "      box-shadow: 0px 1px 3px 1px rgba(0, 0, 0, 0.15);\n",
       "      filter: drop-shadow(0px 1px 2px rgba(0, 0, 0, 0.3));\n",
       "      fill: #FFFFFF;\n",
       "    }\n",
       "  </style>\n",
       "\n",
       "      <script>\n",
       "        const buttonEl =\n",
       "          document.querySelector('#df-e24b9718-2aef-4a6b-996e-4cdc5c39918d button.colab-df-convert');\n",
       "        buttonEl.style.display =\n",
       "          google.colab.kernel.accessAllowed ? 'block' : 'none';\n",
       "\n",
       "        async function convertToInteractive(key) {\n",
       "          const element = document.querySelector('#df-e24b9718-2aef-4a6b-996e-4cdc5c39918d');\n",
       "          const dataTable =\n",
       "            await google.colab.kernel.invokeFunction('convertToInteractive',\n",
       "                                                     [key], {});\n",
       "          if (!dataTable) return;\n",
       "\n",
       "          const docLinkHtml = 'Like what you see? Visit the ' +\n",
       "            '<a target=\"_blank\" href=https://colab.research.google.com/notebooks/data_table.ipynb>data table notebook</a>'\n",
       "            + ' to learn more about interactive tables.';\n",
       "          element.innerHTML = '';\n",
       "          dataTable['output_type'] = 'display_data';\n",
       "          await google.colab.output.renderOutput(dataTable, element);\n",
       "          const docLink = document.createElement('div');\n",
       "          docLink.innerHTML = docLinkHtml;\n",
       "          element.appendChild(docLink);\n",
       "        }\n",
       "      </script>\n",
       "    </div>\n",
       "  </div>\n",
       "  "
      ],
      "text/plain": [
       "                     地方局  寝屋川  枚方  茨木  西大阪\n",
       "48184     2020年12月1日0時0分    0   0   0    0\n",
       "48185    2020年12月1日0時10分    0   0   0    0\n",
       "48186    2020年12月1日0時20分    0   0   0    0\n",
       "48187    2020年12月1日0時30分    0   0   0    0\n",
       "48188    2020年12月1日0時40分    0   0   0    0\n",
       "...                  ...  ...  ..  ..  ...\n",
       "52643  2020年12月31日23時10分    0   0   0    0\n",
       "52644  2020年12月31日23時20分    0   0   0    0\n",
       "52645  2020年12月31日23時30分    0   0   0    0\n",
       "52646  2020年12月31日23時40分    0   0   0    0\n",
       "52647  2020年12月31日23時50分    0   0   0    0\n",
       "\n",
       "[4464 rows x 5 columns]"
      ]
     },
     "metadata": {},
     "output_type": "display_data"
    }
   ],
   "source": [
    "test_rainfall = df_rainfall.iloc[48184:, :]\n",
    "display(test_rainfall)\n",
    "test_rainfall = test_rainfall.loc[:, test_rainfall.columns!=\"地方局\"]"
   ]
  },
  {
   "cell_type": "code",
   "execution_count": 172,
   "id": "domestic-funeral",
   "metadata": {
    "colab": {
     "base_uri": "https://localhost:8080/"
    },
    "id": "aAdPhxo79dus",
    "outputId": "5a76c1a6-64c5-4f31-9ecd-4a52a3e41f5f"
   },
   "outputs": [
    {
     "name": "stdout",
     "output_type": "stream",
     "text": [
      "(148, 1)\n",
      "[[0.  ]\n",
      " [0.  ]\n",
      " [0.  ]\n",
      " [0.  ]\n",
      " [0.73]]\n"
     ]
    }
   ],
   "source": [
    "# Future prediction\n",
    "level_test = np.array(levels[n_total-w:])\n",
    "future_test = np.concatenate((np.array(test_rainfall.iloc[0, :]).reshape(test_rainfall.shape[1],1), level_test.reshape(w,1)), axis=0)\n",
    "future_test = future_test.reshape(future_test.shape[0],1)\n",
    "print(future_test.shape)\n",
    "print(future_test[:5])  # debug\n",
    "future_result = []"
   ]
  },
  {
   "cell_type": "code",
   "execution_count": 173,
   "id": "expected-daily",
   "metadata": {
    "id": "A_g3wXBa84HO"
   },
   "outputs": [],
   "source": [
    "for i in range(4464):\n",
    "    test_data = np.reshape(future_test, (1, w+4, 1))\n",
    "    #print(test_data.shape)  # debug\n",
    "    pred1 = model.predict(test_data)\n",
    "    level_test = np.delete(level_test, 0)\n",
    "    level_test = np.append(level_test, pred1)\n",
    "    future_test = np.concatenate((np.array(test_rainfall.iloc[i, :]).reshape(valid_rainfall.shape[1],1), level_test.reshape(w,1)), axis=0)\n",
    "    future_test = future_test.reshape(future_test.shape[0],1)\n",
    "    future_result = np.append(future_result, pred1)"
   ]
  },
  {
   "cell_type": "code",
   "execution_count": 174,
   "id": "instrumental-worcester",
   "metadata": {
    "colab": {
     "base_uri": "https://localhost:8080/",
     "height": 294
    },
    "id": "0eXcQA929tdT",
    "outputId": "d27f1498-0847-4168-c427-d92d0c9a0a47"
   },
   "outputs": [
    {
     "data": {
      "image/png": "[encoded data removed]",
      "text/plain": [
       "<Figure size 432x288 with 1 Axes>"
      ]
     },
     "metadata": {
      "needs_background": "light"
     },
     "output_type": "display_data"
    }
   ],
   "source": [
    "plt.plot(np.array(range(future_result.shape[0])), future_result, label=\"Prediction\")\n",
    "plt.title(\"Test data\")\n",
    "plt.xlabel(\"10*minutes from 1/12/2020 0:00\")\n",
    "plt.ylabel(\"Water level\")\n",
    "plt.show()"
   ]
  },
  {
   "cell_type": "code",
   "execution_count": 175,
   "id": "acknowledged-reunion",
   "metadata": {
    "colab": {
     "base_uri": "https://localhost:8080/"
    },
    "id": "IDOUK5yG9xTA",
    "outputId": "577cf007-7bc6-43e6-8736-a01620db261c"
   },
   "outputs": [
    {
     "name": "stdout",
     "output_type": "stream",
     "text": [
      "        ID     Level\n",
      "0        0  0.763600\n",
      "1        1  0.763529\n",
      "2        2  0.763846\n",
      "3        3  0.764219\n",
      "4        4  0.764677\n",
      "...    ...       ...\n",
      "4459  4459  1.076526\n",
      "4460  4460  1.076526\n",
      "4461  4461  1.076526\n",
      "4462  4462  1.076526\n",
      "4463  4463  1.076526\n",
      "\n",
      "[4464 rows x 2 columns]\n"
     ]
    }
   ],
   "source": [
    "test_predictions = pd.DataFrame(range(len(future_result)), columns=['ID'])\n",
    "test_predictions['Level'] = future_result\n",
    "print(test_predictions)"
   ]
  },
  {
   "cell_type": "code",
   "execution_count": 176,
   "id": "owned-batch",
   "metadata": {
    "id": "1cDO3zGA91JB"
   },
   "outputs": [],
   "source": [
    "test_predictions.to_csv('lstm_river_rainfall_40epochs.csv', index=False)"
   ]
  },
  {
   "cell_type": "markdown",
   "id": "brown-woman",
   "metadata": {
    "id": "P0wMXU_S-BYv"
   },
   "source": [
    "#### Attention-based LSTM:"
   ]
  },
  {
   "cell_type": "markdown",
   "id": "bacterial-anaheim",
   "metadata": {},
   "source": [
    "##### Import libraries:"
   ]
  },
  {
   "cell_type": "code",
   "execution_count": 180,
   "id": "muslim-enlargement",
   "metadata": {
    "id": "zdvrZ8be_yWE"
   },
   "outputs": [],
   "source": [
    "from keras.layers import Layer\n",
    "import keras.backend as K\n",
    "from keras.layers import Input\n",
    "from keras.models import Model"
   ]
  },
  {
   "cell_type": "markdown",
   "id": "starting-insertion",
   "metadata": {},
   "source": [
    "##### Build attention-based LSTM:"
   ]
  },
  {
   "cell_type": "code",
   "execution_count": 178,
   "id": "prostate-newport",
   "metadata": {
    "id": "PAMAbBTV_zFC"
   },
   "outputs": [],
   "source": [
    "class attention(Layer):\n",
    "    def __init__(self,**kwargs):\n",
    "        super(attention,self).__init__(**kwargs)\n",
    "\n",
    "    def build(self,input_shape):\n",
    "        self.W=self.add_weight(name=\"att_weight\",shape=(input_shape[-1],1),initializer=\"normal\")\n",
    "        self.b=self.add_weight(name=\"att_bias\",shape=(input_shape[1],1),initializer=\"zeros\")        \n",
    "        super(attention, self).build(input_shape)\n",
    "\n",
    "    def call(self,x):\n",
    "        et=K.squeeze(K.tanh(K.dot(x,self.W)+self.b),axis=-1)\n",
    "        at=K.softmax(et)\n",
    "        at=K.expand_dims(at,axis=-1)\n",
    "        output=x*at\n",
    "        return K.sum(output,axis=1)\n",
    "\n",
    "    def compute_output_shape(self,input_shape):\n",
    "        return (input_shape[0],input_shape[-1])\n",
    "\n",
    "    def get_config(self):\n",
    "        return super(attention,self).get_config()"
   ]
  },
  {
   "cell_type": "code",
   "execution_count": 183,
   "id": "split-bearing",
   "metadata": {
    "colab": {
     "base_uri": "https://localhost:8080/"
    },
    "id": "wCtLuVQy_8FP",
    "outputId": "cedb35e5-5228-40da-be29-4d27cd7ebd3c"
   },
   "outputs": [
    {
     "name": "stdout",
     "output_type": "stream",
     "text": [
      "Model: \"model\"\n",
      "_________________________________________________________________\n",
      " Layer (type)                Output Shape              Param #   \n",
      "=================================================================\n",
      " input_2 (InputLayer)        [(None, 144, 1)]          0         \n",
      "                                                                 \n",
      " lstm_5 (LSTM)               (None, 144, 100)          40800     \n",
      "                                                                 \n",
      " attention (attention)       (None, 100)               244       \n",
      "                                                                 \n",
      " dense_4 (Dense)             (None, 1)                 101       \n",
      "                                                                 \n",
      "=================================================================\n",
      "Total params: 41,145\n",
      "Trainable params: 41,145\n",
      "Non-trainable params: 0\n",
      "_________________________________________________________________\n"
     ]
    }
   ],
   "source": [
    "inputs=Input((w,1,))\n",
    "att_in=LSTM(100, return_sequences=True, dropout=0.3, recurrent_dropout=0.2)(inputs)\n",
    "att_out=attention()(att_in)\n",
    "outputs=Dense(1,activation='sigmoid',trainable=True)(att_out)\n",
    "model=Model(inputs,outputs)\n",
    "model.summary()"
   ]
  },
  {
   "cell_type": "code",
   "execution_count": 185,
   "id": "according-glance",
   "metadata": {
    "colab": {
     "base_uri": "https://localhost:8080/"
    },
    "id": "g40CeIGzAbWV",
    "outputId": "b45a970e-e661-45c0-aa6c-ac6a9028e81b"
   },
   "outputs": [
    {
     "name": "stdout",
     "output_type": "stream",
     "text": [
      "Epoch 1/40\n",
      "96/96 [==============================] - 124s 1s/step - loss: 0.0285 - val_loss: 0.0209\n",
      "Epoch 2/40\n",
      "96/96 [==============================] - 109s 1s/step - loss: 0.0105 - val_loss: 0.0168\n",
      "Epoch 3/40\n",
      "96/96 [==============================] - 110s 1s/step - loss: 0.0100 - val_loss: 0.0165\n",
      "Epoch 4/40\n",
      "96/96 [==============================] - 110s 1s/step - loss: 0.0099 - val_loss: 0.0165\n",
      "Epoch 5/40\n",
      "96/96 [==============================] - 115s 1s/step - loss: 0.0098 - val_loss: 0.0161\n",
      "Epoch 6/40\n",
      "96/96 [==============================] - 114s 1s/step - loss: 0.0096 - val_loss: 0.0161\n",
      "Epoch 7/40\n",
      "96/96 [==============================] - 115s 1s/step - loss: 0.0094 - val_loss: 0.0155\n",
      "Epoch 8/40\n",
      "96/96 [==============================] - 113s 1s/step - loss: 0.0093 - val_loss: 0.0157\n",
      "Epoch 9/40\n",
      "96/96 [==============================] - 118s 1s/step - loss: 0.0093 - val_loss: 0.0156\n",
      "Epoch 10/40\n",
      "96/96 [==============================] - 116s 1s/step - loss: 0.0094 - val_loss: 0.0158\n",
      "Epoch 11/40\n",
      "96/96 [==============================] - 116s 1s/step - loss: 0.0091 - val_loss: 0.0154\n",
      "Epoch 12/40\n",
      "96/96 [==============================] - 116s 1s/step - loss: 0.0090 - val_loss: 0.0158\n",
      "Epoch 13/40\n",
      "96/96 [==============================] - 113s 1s/step - loss: 0.0089 - val_loss: 0.0155\n",
      "Epoch 14/40\n",
      "96/96 [==============================] - 112s 1s/step - loss: 0.0088 - val_loss: 0.0151\n",
      "Epoch 15/40\n",
      "96/96 [==============================] - 111s 1s/step - loss: 0.0088 - val_loss: 0.0148\n",
      "Epoch 16/40\n",
      "96/96 [==============================] - 113s 1s/step - loss: 0.0087 - val_loss: 0.0152\n",
      "Epoch 17/40\n",
      "96/96 [==============================] - 111s 1s/step - loss: 0.0087 - val_loss: 0.0146\n",
      "Epoch 18/40\n",
      "96/96 [==============================] - 109s 1s/step - loss: 0.0086 - val_loss: 0.0152\n",
      "Epoch 19/40\n",
      "96/96 [==============================] - 107s 1s/step - loss: 0.0086 - val_loss: 0.0150\n",
      "Epoch 20/40\n",
      "96/96 [==============================] - 114s 1s/step - loss: 0.0085 - val_loss: 0.0146\n",
      "Epoch 21/40\n",
      "96/96 [==============================] - 119s 1s/step - loss: 0.0084 - val_loss: 0.0144\n",
      "Epoch 22/40\n",
      "96/96 [==============================] - 118s 1s/step - loss: 0.0084 - val_loss: 0.0145\n",
      "Epoch 23/40\n",
      "96/96 [==============================] - 118s 1s/step - loss: 0.0084 - val_loss: 0.0151\n",
      "Epoch 24/40\n",
      "96/96 [==============================] - 115s 1s/step - loss: 0.0083 - val_loss: 0.0155\n",
      "Epoch 25/40\n",
      "96/96 [==============================] - 115s 1s/step - loss: 0.0083 - val_loss: 0.0159\n",
      "Epoch 26/40\n",
      "96/96 [==============================] - 117s 1s/step - loss: 0.0083 - val_loss: 0.0145\n",
      "Epoch 27/40\n",
      "96/96 [==============================] - 116s 1s/step - loss: 0.0082 - val_loss: 0.0143\n",
      "Epoch 28/40\n",
      "96/96 [==============================] - 115s 1s/step - loss: 0.0082 - val_loss: 0.0145\n",
      "Epoch 29/40\n",
      "96/96 [==============================] - 113s 1s/step - loss: 0.0082 - val_loss: 0.0146\n",
      "Epoch 30/40\n",
      "96/96 [==============================] - 113s 1s/step - loss: 0.0081 - val_loss: 0.0152\n",
      "Epoch 31/40\n",
      "96/96 [==============================] - 116s 1s/step - loss: 0.0082 - val_loss: 0.0141\n",
      "Epoch 32/40\n",
      "96/96 [==============================] - 113s 1s/step - loss: 0.0081 - val_loss: 0.0146\n",
      "Epoch 33/40\n",
      "96/96 [==============================] - 112s 1s/step - loss: 0.0080 - val_loss: 0.0149\n",
      "Epoch 34/40\n",
      "96/96 [==============================] - 111s 1s/step - loss: 0.0081 - val_loss: 0.0149\n",
      "Epoch 35/40\n",
      "96/96 [==============================] - 111s 1s/step - loss: 0.0081 - val_loss: 0.0183\n",
      "Epoch 36/40\n",
      "96/96 [==============================] - 113s 1s/step - loss: 0.0080 - val_loss: 0.0174\n",
      "Epoch 37/40\n",
      "96/96 [==============================] - 112s 1s/step - loss: 0.0080 - val_loss: 0.0146\n",
      "Epoch 38/40\n",
      "96/96 [==============================] - 106s 1s/step - loss: 0.0080 - val_loss: 0.0163\n",
      "Epoch 39/40\n",
      "96/96 [==============================] - 104s 1s/step - loss: 0.0080 - val_loss: 0.0162\n",
      "Epoch 40/40\n",
      "96/96 [==============================] - 107s 1s/step - loss: 0.0079 - val_loss: 0.0187\n"
     ]
    },
    {
     "data": {
      "text/plain": [
       "<keras.callbacks.History at 0x7f286c5b0b90>"
      ]
     },
     "execution_count": 185,
     "metadata": {},
     "output_type": "execute_result"
    }
   ],
   "source": [
    "model.compile(loss='mse', optimizer='adam')\n",
    "model.fit(x, y, batch_size=batch_size, epochs=n_epochs, verbose=1, shuffle=True, validation_split=0.2)"
   ]
  },
  {
   "cell_type": "code",
   "execution_count": 191,
   "id": "systematic-clothing",
   "metadata": {
    "id": "Bz5_Y0LAVKjc"
   },
   "outputs": [],
   "source": [
    "model.save('lstm_attention_river_only_40epochs.h5')"
   ]
  },
  {
   "cell_type": "markdown",
   "id": "quick-charlotte",
   "metadata": {},
   "source": [
    "##### Prediction and evaluation:"
   ]
  },
  {
   "cell_type": "code",
   "execution_count": 186,
   "id": "circular-spine",
   "metadata": {
    "colab": {
     "base_uri": "https://localhost:8080/"
    },
    "id": "U99JHfurBGRr",
    "outputId": "6768bb8e-cde5-4b8a-bf60-ab47931e4d0b"
   },
   "outputs": [
    {
     "name": "stdout",
     "output_type": "stream",
     "text": [
      "(144, 1)\n",
      "[[0.73]\n",
      " [0.73]\n",
      " [0.73]\n",
      " [0.72]\n",
      " [0.72]]\n"
     ]
    }
   ],
   "source": [
    "# Future prediction\n",
    "future_test = levels[n_total-w:]\n",
    "future_test = future_test.values.reshape(future_test.shape[0],1)\n",
    "print(future_test.shape)\n",
    "print(future_test[:5])  # debug\n",
    "future_result = []"
   ]
  },
  {
   "cell_type": "code",
   "execution_count": 187,
   "id": "center-illinois",
   "metadata": {
    "id": "v4zXWj8aU0yR"
   },
   "outputs": [],
   "source": [
    "for i in range(4464):\n",
    "    test_data = np.reshape(future_test, (1, w, 1))\n",
    "    #print(test_data.shape)  # debug\n",
    "    pred1 = model.predict(test_data)\n",
    "    future_test = np.delete(future_test, 0)\n",
    "    future_test = np.append(future_test, pred1)\n",
    "    future_result = np.append(future_result, pred1)"
   ]
  },
  {
   "cell_type": "code",
   "execution_count": 188,
   "id": "ordered-person",
   "metadata": {
    "colab": {
     "base_uri": "https://localhost:8080/",
     "height": 294
    },
    "id": "f6U8mSzVU8ex",
    "outputId": "66b3a1e2-a6e3-4f04-9b07-925a47fa1561"
   },
   "outputs": [
    {
     "data": {
      "image/png": "[encoded data removed]",
      "text/plain": [
       "<Figure size 432x288 with 1 Axes>"
      ]
     },
     "metadata": {
      "needs_background": "light"
     },
     "output_type": "display_data"
    }
   ],
   "source": [
    "plt.plot(np.array(range(future_result.shape[0])), future_result, label=\"Prediction\")\n",
    "plt.title(\"Test data\")\n",
    "plt.xlabel(\"10*minutes from 1/12/2020 0:00\")\n",
    "plt.ylabel(\"Water level\")\n",
    "plt.show()"
   ]
  },
  {
   "cell_type": "code",
   "execution_count": 189,
   "id": "protecting-korean",
   "metadata": {
    "colab": {
     "base_uri": "https://localhost:8080/"
    },
    "id": "WtlgorpBVAZU",
    "outputId": "67d30796-abe4-4f52-bd7f-796b64c8362d"
   },
   "outputs": [
    {
     "name": "stdout",
     "output_type": "stream",
     "text": [
      "        ID     Level\n",
      "0        0  0.674103\n",
      "1        1  0.674568\n",
      "2        2  0.673953\n",
      "3        3  0.672586\n",
      "4        4  0.671021\n",
      "...    ...       ...\n",
      "4459  4459  0.374703\n",
      "4460  4460  0.374703\n",
      "4461  4461  0.374703\n",
      "4462  4462  0.374703\n",
      "4463  4463  0.374703\n",
      "\n",
      "[4464 rows x 2 columns]\n"
     ]
    }
   ],
   "source": [
    "test_predictions = pd.DataFrame(range(len(future_result)), columns=['ID'])\n",
    "test_predictions['Level'] = future_result\n",
    "print(test_predictions)"
   ]
  },
  {
   "cell_type": "code",
   "execution_count": 190,
   "id": "southern-preliminary",
   "metadata": {
    "id": "RQc-zffmVD54"
   },
   "outputs": [],
   "source": [
    "test_predictions.to_csv('lstm_attention_river_only_40epochs.csv', index=False)"
   ]
  },
  {
   "cell_type": "code",
   "execution_count": null,
   "id": "formed-fleece",
   "metadata": {
    "id": "BRXu7je6VIAE"
   },
   "outputs": [],
   "source": []
  }
 ],
 "metadata": {
  "colab": {
   "collapsed_sections": [],
   "name": "river_level.ipynb",
   "provenance": []
  },
  "kernelspec": {
   "display_name": "Python 3",
   "language": "python",
   "name": "python3"
  },
  "language_info": {
   "codemirror_mode": {
    "name": "ipython",
    "version": 3
   },
   "file_extension": ".py",
   "mimetype": "text/x-python",
   "name": "python",
   "nbconvert_exporter": "python",
   "pygments_lexer": "ipython3",
   "version": "3.8.8"
  }
 },
 "nbformat": 4,
 "nbformat_minor": 5
}
